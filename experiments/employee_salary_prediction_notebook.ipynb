{
 "cells": [
  {
   "cell_type": "markdown",
   "metadata": {
    "colab_type": "text",
    "id": "M27qF7CTrBqc"
   },
   "source": [
    "# TASK #1: UNDERSTAND THE PROBLEM STATEMENT "
   ]
  },
  {
   "cell_type": "markdown",
   "metadata": {
    "colab_type": "text",
    "id": "xNl52nl3qiyL"
   },
   "source": [
    "- The objective of this case study is to predict the employee salary based on the number of years of experience. \n",
    "- In simple linear regression, we predict the value of one variable Y based on another variable X.\n",
    "- X is called the independent variable and Y is called the dependant variable.\n",
    "- Why simple? Because it examines relationship between two variables only.\n",
    "- Why linear? when the independent variable increases (or decreases), the dependent variable increases (or decreases) in a linear fashion.\n"
   ]
  },
  {
   "cell_type": "code",
   "execution_count": 1,
   "metadata": {},
   "outputs": [
    {
     "name": "stdout",
     "output_type": "stream",
     "text": [
<<<<<<< HEAD
      "Requirement already satisfied: tensorflow in c:\\users\\sebas\\anaconda3\\envs\\aws_sagemaker\\lib\\site-packages (2.10.0)\n",
      "Requirement already satisfied: tensorflow-io-gcs-filesystem>=0.23.1 in c:\\users\\sebas\\anaconda3\\envs\\aws_sagemaker\\lib\\site-packages (from tensorflow) (0.27.0)\n",
      "Requirement already satisfied: h5py>=2.9.0 in c:\\users\\sebas\\anaconda3\\envs\\aws_sagemaker\\lib\\site-packages (from tensorflow) (3.7.0)\n",
      "Requirement already satisfied: typing-extensions>=3.6.6 in c:\\users\\sebas\\anaconda3\\envs\\aws_sagemaker\\lib\\site-packages (from tensorflow) (4.3.0)\n",
      "Requirement already satisfied: protobuf<3.20,>=3.9.2 in c:\\users\\sebas\\anaconda3\\envs\\aws_sagemaker\\lib\\site-packages (from tensorflow) (3.19.6)\n",
      "Requirement already satisfied: google-pasta>=0.1.1 in c:\\users\\sebas\\anaconda3\\envs\\aws_sagemaker\\lib\\site-packages (from tensorflow) (0.2.0)\n",
      "Requirement already satisfied: keras-preprocessing>=1.1.1 in c:\\users\\sebas\\anaconda3\\envs\\aws_sagemaker\\lib\\site-packages (from tensorflow) (1.1.2)\n",
      "Requirement already satisfied: keras<2.11,>=2.10.0 in c:\\users\\sebas\\anaconda3\\envs\\aws_sagemaker\\lib\\site-packages (from tensorflow) (2.10.0)\n",
      "Requirement already satisfied: gast<=0.4.0,>=0.2.1 in c:\\users\\sebas\\anaconda3\\envs\\aws_sagemaker\\lib\\site-packages (from tensorflow) (0.4.0)\n",
      "Requirement already satisfied: tensorboard<2.11,>=2.10 in c:\\users\\sebas\\anaconda3\\envs\\aws_sagemaker\\lib\\site-packages (from tensorflow) (2.10.1)\n",
      "Requirement already satisfied: wrapt>=1.11.0 in c:\\users\\sebas\\anaconda3\\envs\\aws_sagemaker\\lib\\site-packages (from tensorflow) (1.14.1)\n",
      "Requirement already satisfied: grpcio<2.0,>=1.24.3 in c:\\users\\sebas\\anaconda3\\envs\\aws_sagemaker\\lib\\site-packages (from tensorflow) (1.50.0)\n",
      "Requirement already satisfied: opt-einsum>=2.3.2 in c:\\users\\sebas\\anaconda3\\envs\\aws_sagemaker\\lib\\site-packages (from tensorflow) (3.3.0)\n",
      "Requirement already satisfied: six>=1.12.0 in c:\\users\\sebas\\anaconda3\\envs\\aws_sagemaker\\lib\\site-packages (from tensorflow) (1.16.0)\n",
      "Requirement already satisfied: libclang>=13.0.0 in c:\\users\\sebas\\anaconda3\\envs\\aws_sagemaker\\lib\\site-packages (from tensorflow) (14.0.6)\n",
      "Requirement already satisfied: numpy>=1.20 in c:\\users\\sebas\\anaconda3\\envs\\aws_sagemaker\\lib\\site-packages (from tensorflow) (1.23.4)\n",
      "Requirement already satisfied: tensorflow-estimator<2.11,>=2.10.0 in c:\\users\\sebas\\anaconda3\\envs\\aws_sagemaker\\lib\\site-packages (from tensorflow) (2.10.0)\n",
      "Requirement already satisfied: setuptools in c:\\users\\sebas\\anaconda3\\envs\\aws_sagemaker\\lib\\site-packages (from tensorflow) (65.5.0)\n",
      "Requirement already satisfied: termcolor>=1.1.0 in c:\\users\\sebas\\anaconda3\\envs\\aws_sagemaker\\lib\\site-packages (from tensorflow) (2.1.0)\n",
      "Requirement already satisfied: astunparse>=1.6.0 in c:\\users\\sebas\\anaconda3\\envs\\aws_sagemaker\\lib\\site-packages (from tensorflow) (1.6.3)\n",
      "Requirement already satisfied: absl-py>=1.0.0 in c:\\users\\sebas\\anaconda3\\envs\\aws_sagemaker\\lib\\site-packages (from tensorflow) (1.3.0)\n",
      "Requirement already satisfied: packaging in c:\\users\\sebas\\anaconda3\\envs\\aws_sagemaker\\lib\\site-packages (from tensorflow) (21.3)\n",
      "Requirement already satisfied: flatbuffers>=2.0 in c:\\users\\sebas\\anaconda3\\envs\\aws_sagemaker\\lib\\site-packages (from tensorflow) (22.10.26)\n",
      "Requirement already satisfied: wheel<1.0,>=0.23.0 in c:\\users\\sebas\\anaconda3\\envs\\aws_sagemaker\\lib\\site-packages (from astunparse>=1.6.0->tensorflow) (0.37.1)\n",
      "Requirement already satisfied: google-auth<3,>=1.6.3 in c:\\users\\sebas\\anaconda3\\envs\\aws_sagemaker\\lib\\site-packages (from tensorboard<2.11,>=2.10->tensorflow) (2.14.1)\n",
      "Requirement already satisfied: werkzeug>=1.0.1 in c:\\users\\sebas\\anaconda3\\envs\\aws_sagemaker\\lib\\site-packages (from tensorboard<2.11,>=2.10->tensorflow) (2.2.2)\n",
      "Requirement already satisfied: tensorboard-plugin-wit>=1.6.0 in c:\\users\\sebas\\anaconda3\\envs\\aws_sagemaker\\lib\\site-packages (from tensorboard<2.11,>=2.10->tensorflow) (1.8.1)\n",
      "Requirement already satisfied: markdown>=2.6.8 in c:\\users\\sebas\\anaconda3\\envs\\aws_sagemaker\\lib\\site-packages (from tensorboard<2.11,>=2.10->tensorflow) (3.4.1)\n",
      "Requirement already satisfied: requests<3,>=2.21.0 in c:\\users\\sebas\\anaconda3\\envs\\aws_sagemaker\\lib\\site-packages (from tensorboard<2.11,>=2.10->tensorflow) (2.28.1)\n",
      "Requirement already satisfied: google-auth-oauthlib<0.5,>=0.4.1 in c:\\users\\sebas\\anaconda3\\envs\\aws_sagemaker\\lib\\site-packages (from tensorboard<2.11,>=2.10->tensorflow) (0.4.6)\n",
      "Requirement already satisfied: tensorboard-data-server<0.7.0,>=0.6.0 in c:\\users\\sebas\\anaconda3\\envs\\aws_sagemaker\\lib\\site-packages (from tensorboard<2.11,>=2.10->tensorflow) (0.6.1)\n",
      "Requirement already satisfied: pyparsing!=3.0.5,>=2.0.2 in c:\\users\\sebas\\anaconda3\\envs\\aws_sagemaker\\lib\\site-packages (from packaging->tensorflow) (3.0.9)\n",
      "Requirement already satisfied: cachetools<6.0,>=2.0.0 in c:\\users\\sebas\\anaconda3\\envs\\aws_sagemaker\\lib\\site-packages (from google-auth<3,>=1.6.3->tensorboard<2.11,>=2.10->tensorflow) (5.2.0)\n",
      "Requirement already satisfied: pyasn1-modules>=0.2.1 in c:\\users\\sebas\\anaconda3\\envs\\aws_sagemaker\\lib\\site-packages (from google-auth<3,>=1.6.3->tensorboard<2.11,>=2.10->tensorflow) (0.2.8)\n",
      "Requirement already satisfied: rsa<5,>=3.1.4 in c:\\users\\sebas\\anaconda3\\envs\\aws_sagemaker\\lib\\site-packages (from google-auth<3,>=1.6.3->tensorboard<2.11,>=2.10->tensorflow) (4.9)\n",
      "Requirement already satisfied: requests-oauthlib>=0.7.0 in c:\\users\\sebas\\anaconda3\\envs\\aws_sagemaker\\lib\\site-packages (from google-auth-oauthlib<0.5,>=0.4.1->tensorboard<2.11,>=2.10->tensorflow) (1.3.1)\n",
      "Requirement already satisfied: importlib-metadata>=4.4 in c:\\users\\sebas\\anaconda3\\envs\\aws_sagemaker\\lib\\site-packages (from markdown>=2.6.8->tensorboard<2.11,>=2.10->tensorflow) (4.13.0)\n",
      "Requirement already satisfied: certifi>=2017.4.17 in c:\\users\\sebas\\anaconda3\\envs\\aws_sagemaker\\lib\\site-packages (from requests<3,>=2.21.0->tensorboard<2.11,>=2.10->tensorflow) (2022.9.24)\n",
      "Requirement already satisfied: idna<4,>=2.5 in c:\\users\\sebas\\anaconda3\\envs\\aws_sagemaker\\lib\\site-packages (from requests<3,>=2.21.0->tensorboard<2.11,>=2.10->tensorflow) (3.4)\n",
      "Requirement already satisfied: charset-normalizer<3,>=2 in c:\\users\\sebas\\anaconda3\\envs\\aws_sagemaker\\lib\\site-packages (from requests<3,>=2.21.0->tensorboard<2.11,>=2.10->tensorflow) (2.1.1)\n",
      "Requirement already satisfied: urllib3<1.27,>=1.21.1 in c:\\users\\sebas\\anaconda3\\envs\\aws_sagemaker\\lib\\site-packages (from requests<3,>=2.21.0->tensorboard<2.11,>=2.10->tensorflow) (1.26.12)\n",
      "Requirement already satisfied: MarkupSafe>=2.1.1 in c:\\users\\sebas\\anaconda3\\envs\\aws_sagemaker\\lib\\site-packages (from werkzeug>=1.0.1->tensorboard<2.11,>=2.10->tensorflow) (2.1.1)\n",
      "Requirement already satisfied: zipp>=0.5 in c:\\users\\sebas\\anaconda3\\envs\\aws_sagemaker\\lib\\site-packages (from importlib-metadata>=4.4->markdown>=2.6.8->tensorboard<2.11,>=2.10->tensorflow) (3.10.0)\n",
      "Requirement already satisfied: pyasn1<0.5.0,>=0.4.6 in c:\\users\\sebas\\anaconda3\\envs\\aws_sagemaker\\lib\\site-packages (from pyasn1-modules>=0.2.1->google-auth<3,>=1.6.3->tensorboard<2.11,>=2.10->tensorflow) (0.4.8)\n",
      "Requirement already satisfied: oauthlib>=3.0.0 in c:\\users\\sebas\\anaconda3\\envs\\aws_sagemaker\\lib\\site-packages (from requests-oauthlib>=0.7.0->google-auth-oauthlib<0.5,>=0.4.1->tensorboard<2.11,>=2.10->tensorflow) (3.2.2)\n"
=======
      "Requirement already satisfied: tensorflow in /opt/conda/lib/python3.7/site-packages (2.10.0)\n",
      "Requirement already satisfied: tensorflow-estimator<2.11,>=2.10.0 in /opt/conda/lib/python3.7/site-packages (from tensorflow) (2.10.0)\n",
      "Requirement already satisfied: absl-py>=1.0.0 in /opt/conda/lib/python3.7/site-packages (from tensorflow) (1.3.0)\n",
      "Requirement already satisfied: gast<=0.4.0,>=0.2.1 in /opt/conda/lib/python3.7/site-packages (from tensorflow) (0.4.0)\n",
      "Requirement already satisfied: astunparse>=1.6.0 in /opt/conda/lib/python3.7/site-packages (from tensorflow) (1.6.3)\n",
      "Requirement already satisfied: tensorflow-io-gcs-filesystem>=0.23.1 in /opt/conda/lib/python3.7/site-packages (from tensorflow) (0.27.0)\n",
      "Requirement already satisfied: six>=1.12.0 in /opt/conda/lib/python3.7/site-packages (from tensorflow) (1.14.0)\n",
      "Requirement already satisfied: termcolor>=1.1.0 in /opt/conda/lib/python3.7/site-packages (from tensorflow) (2.1.0)\n",
      "Requirement already satisfied: typing-extensions>=3.6.6 in /opt/conda/lib/python3.7/site-packages (from tensorflow) (4.3.0)\n",
      "Requirement already satisfied: h5py>=2.9.0 in /opt/conda/lib/python3.7/site-packages (from tensorflow) (2.10.0)\n",
      "Requirement already satisfied: setuptools in /opt/conda/lib/python3.7/site-packages (from tensorflow) (59.3.0)\n",
      "Requirement already satisfied: tensorboard<2.11,>=2.10 in /opt/conda/lib/python3.7/site-packages (from tensorflow) (2.10.1)\n",
      "Requirement already satisfied: protobuf<3.20,>=3.9.2 in /opt/conda/lib/python3.7/site-packages (from tensorflow) (3.19.6)\n",
      "Requirement already satisfied: keras<2.11,>=2.10.0 in /opt/conda/lib/python3.7/site-packages (from tensorflow) (2.10.0)\n",
      "Requirement already satisfied: keras-preprocessing>=1.1.1 in /opt/conda/lib/python3.7/site-packages (from tensorflow) (1.1.2)\n",
      "Requirement already satisfied: libclang>=13.0.0 in /opt/conda/lib/python3.7/site-packages (from tensorflow) (14.0.6)\n",
      "Requirement already satisfied: flatbuffers>=2.0 in /opt/conda/lib/python3.7/site-packages (from tensorflow) (22.10.26)\n",
      "Requirement already satisfied: wrapt>=1.11.0 in /opt/conda/lib/python3.7/site-packages (from tensorflow) (1.11.2)\n",
      "Requirement already satisfied: packaging in /opt/conda/lib/python3.7/site-packages (from tensorflow) (20.1)\n",
      "Requirement already satisfied: opt-einsum>=2.3.2 in /opt/conda/lib/python3.7/site-packages (from tensorflow) (3.3.0)\n",
      "Requirement already satisfied: numpy>=1.20 in /opt/conda/lib/python3.7/site-packages (from tensorflow) (1.21.6)\n",
      "Requirement already satisfied: grpcio<2.0,>=1.24.3 in /opt/conda/lib/python3.7/site-packages (from tensorflow) (1.50.0)\n",
      "Requirement already satisfied: google-pasta>=0.1.1 in /opt/conda/lib/python3.7/site-packages (from tensorflow) (0.2.0)\n",
      "Requirement already satisfied: wheel<1.0,>=0.23.0 in /opt/conda/lib/python3.7/site-packages (from astunparse>=1.6.0->tensorflow) (0.34.2)\n",
      "Requirement already satisfied: tensorboard-data-server<0.7.0,>=0.6.0 in /opt/conda/lib/python3.7/site-packages (from tensorboard<2.11,>=2.10->tensorflow) (0.6.1)\n",
      "Requirement already satisfied: werkzeug>=1.0.1 in /opt/conda/lib/python3.7/site-packages (from tensorboard<2.11,>=2.10->tensorflow) (2.2.2)\n",
      "Requirement already satisfied: requests<3,>=2.21.0 in /opt/conda/lib/python3.7/site-packages (from tensorboard<2.11,>=2.10->tensorflow) (2.28.1)\n",
      "Requirement already satisfied: google-auth-oauthlib<0.5,>=0.4.1 in /opt/conda/lib/python3.7/site-packages (from tensorboard<2.11,>=2.10->tensorflow) (0.4.6)\n",
      "Requirement already satisfied: google-auth<3,>=1.6.3 in /opt/conda/lib/python3.7/site-packages (from tensorboard<2.11,>=2.10->tensorflow) (2.14.1)\n",
      "Requirement already satisfied: tensorboard-plugin-wit>=1.6.0 in /opt/conda/lib/python3.7/site-packages (from tensorboard<2.11,>=2.10->tensorflow) (1.8.1)\n",
      "Requirement already satisfied: markdown>=2.6.8 in /opt/conda/lib/python3.7/site-packages (from tensorboard<2.11,>=2.10->tensorflow) (3.4.1)\n",
      "Requirement already satisfied: pyparsing>=2.0.2 in /opt/conda/lib/python3.7/site-packages (from packaging->tensorflow) (2.4.6)\n",
      "Requirement already satisfied: cachetools<6.0,>=2.0.0 in /opt/conda/lib/python3.7/site-packages (from google-auth<3,>=1.6.3->tensorboard<2.11,>=2.10->tensorflow) (5.2.0)\n",
      "Requirement already satisfied: rsa<5,>=3.1.4 in /opt/conda/lib/python3.7/site-packages (from google-auth<3,>=1.6.3->tensorboard<2.11,>=2.10->tensorflow) (4.9)\n",
      "Requirement already satisfied: pyasn1-modules>=0.2.1 in /opt/conda/lib/python3.7/site-packages (from google-auth<3,>=1.6.3->tensorboard<2.11,>=2.10->tensorflow) (0.2.8)\n",
      "Requirement already satisfied: requests-oauthlib>=0.7.0 in /opt/conda/lib/python3.7/site-packages (from google-auth-oauthlib<0.5,>=0.4.1->tensorboard<2.11,>=2.10->tensorflow) (1.3.1)\n",
      "Requirement already satisfied: importlib-metadata>=4.4 in /opt/conda/lib/python3.7/site-packages (from markdown>=2.6.8->tensorboard<2.11,>=2.10->tensorflow) (4.12.0)\n",
      "Requirement already satisfied: urllib3<1.27,>=1.21.1 in /opt/conda/lib/python3.7/site-packages (from requests<3,>=2.21.0->tensorboard<2.11,>=2.10->tensorflow) (1.26.12)\n",
      "Requirement already satisfied: charset-normalizer<3,>=2 in /opt/conda/lib/python3.7/site-packages (from requests<3,>=2.21.0->tensorboard<2.11,>=2.10->tensorflow) (2.0.4)\n",
      "Requirement already satisfied: idna<4,>=2.5 in /opt/conda/lib/python3.7/site-packages (from requests<3,>=2.21.0->tensorboard<2.11,>=2.10->tensorflow) (2.8)\n",
      "Requirement already satisfied: certifi>=2017.4.17 in /opt/conda/lib/python3.7/site-packages (from requests<3,>=2.21.0->tensorboard<2.11,>=2.10->tensorflow) (2022.6.15)\n",
      "Requirement already satisfied: MarkupSafe>=2.1.1 in /opt/conda/lib/python3.7/site-packages (from werkzeug>=1.0.1->tensorboard<2.11,>=2.10->tensorflow) (2.1.1)\n",
      "Requirement already satisfied: zipp>=0.5 in /opt/conda/lib/python3.7/site-packages (from importlib-metadata>=4.4->markdown>=2.6.8->tensorboard<2.11,>=2.10->tensorflow) (3.8.1)\n",
      "Requirement already satisfied: pyasn1<0.5.0,>=0.4.6 in /opt/conda/lib/python3.7/site-packages (from pyasn1-modules>=0.2.1->google-auth<3,>=1.6.3->tensorboard<2.11,>=2.10->tensorflow) (0.4.8)\n",
      "Requirement already satisfied: oauthlib>=3.0.0 in /opt/conda/lib/python3.7/site-packages (from requests-oauthlib>=0.7.0->google-auth-oauthlib<0.5,>=0.4.1->tensorboard<2.11,>=2.10->tensorflow) (3.2.2)\n",
      "\u001b[33mWARNING: Running pip as the 'root' user can result in broken permissions and conflicting behaviour with the system package manager. It is recommended to use a virtual environment instead: https://pip.pypa.io/warnings/venv\u001b[0m\u001b[33m\n",
      "\u001b[0m\n",
      "\u001b[1m[\u001b[0m\u001b[34;49mnotice\u001b[0m\u001b[1;39;49m]\u001b[0m\u001b[39;49m A new release of pip available: \u001b[0m\u001b[31;49m22.2.2\u001b[0m\u001b[39;49m -> \u001b[0m\u001b[32;49m22.3.1\u001b[0m\n",
      "\u001b[1m[\u001b[0m\u001b[34;49mnotice\u001b[0m\u001b[1;39;49m]\u001b[0m\u001b[39;49m To update, run: \u001b[0m\u001b[32;49mpip install --upgrade pip\u001b[0m\n"
>>>>>>> ed77e4bc4c49b7306ce6318a262f499b84851fbb
     ]
    }
   ],
   "source": [
    "! pip install tensorflow"
   ]
  },
  {
   "cell_type": "markdown",
   "metadata": {
    "colab_type": "text",
    "id": "zKmFmyaGunc7"
   },
   "source": [
    "# TASK #2: IMPORT LIBRARIES AND DATASETS"
   ]
  },
  {
   "cell_type": "code",
   "execution_count": 2,
   "metadata": {},
   "outputs": [],
   "source": [
    "# install seaborn library\n",
    "# !pip install seaborn\n",
    "# !pip install tensorflow\n",
    "import tensorflow as tf\n",
    "import pandas as pd\n",
    "import numpy as np\n",
    "import seaborn as sns\n",
    "import matplotlib.pyplot as plt\n"
   ]
  },
  {
   "cell_type": "code",
   "execution_count": 3,
   "metadata": {
    "colab": {},
    "colab_type": "code",
    "id": "tjIiJdM4u1IE"
   },
   "outputs": [],
   "source": [
    "# read the csv file \n",
    "salary_df = pd.read_csv('../data/salary.csv')"
   ]
  },
  {
   "cell_type": "code",
   "execution_count": 4,
   "metadata": {
    "colab": {
     "base_uri": "https://localhost:8080/",
     "height": 204
    },
    "colab_type": "code",
    "id": "q4_wPDKCu5Uc",
    "outputId": "886d2aaf-0205-4f46-96a7-629d0f367d2f"
   },
   "outputs": [
    {
     "data": {
      "text/html": [
       "<div>\n",
       "<style scoped>\n",
       "    .dataframe tbody tr th:only-of-type {\n",
       "        vertical-align: middle;\n",
       "    }\n",
       "\n",
       "    .dataframe tbody tr th {\n",
       "        vertical-align: top;\n",
       "    }\n",
       "\n",
       "    .dataframe thead th {\n",
       "        text-align: right;\n",
       "    }\n",
       "</style>\n",
       "<table border=\"1\" class=\"dataframe\">\n",
       "  <thead>\n",
       "    <tr style=\"text-align: right;\">\n",
       "      <th></th>\n",
       "      <th>YearsExperience</th>\n",
       "      <th>Salary</th>\n",
       "    </tr>\n",
       "  </thead>\n",
       "  <tbody>\n",
       "    <tr>\n",
       "      <th>0</th>\n",
       "      <td>1.1</td>\n",
       "      <td>39343</td>\n",
       "    </tr>\n",
       "    <tr>\n",
       "      <th>1</th>\n",
       "      <td>1.3</td>\n",
       "      <td>46205</td>\n",
       "    </tr>\n",
       "    <tr>\n",
       "      <th>2</th>\n",
       "      <td>1.5</td>\n",
       "      <td>37731</td>\n",
       "    </tr>\n",
       "    <tr>\n",
       "      <th>3</th>\n",
       "      <td>2.0</td>\n",
       "      <td>43525</td>\n",
       "    </tr>\n",
       "    <tr>\n",
       "      <th>4</th>\n",
       "      <td>2.2</td>\n",
       "      <td>39891</td>\n",
       "    </tr>\n",
       "    <tr>\n",
       "      <th>5</th>\n",
       "      <td>2.9</td>\n",
       "      <td>56642</td>\n",
       "    </tr>\n",
       "    <tr>\n",
       "      <th>6</th>\n",
       "      <td>3.0</td>\n",
       "      <td>60150</td>\n",
       "    </tr>\n",
       "    <tr>\n",
       "      <th>7</th>\n",
       "      <td>3.2</td>\n",
       "      <td>54445</td>\n",
       "    </tr>\n",
       "    <tr>\n",
       "      <th>8</th>\n",
       "      <td>3.2</td>\n",
       "      <td>64445</td>\n",
       "    </tr>\n",
       "    <tr>\n",
       "      <th>9</th>\n",
       "      <td>3.7</td>\n",
       "      <td>57189</td>\n",
       "    </tr>\n",
       "    <tr>\n",
       "      <th>10</th>\n",
       "      <td>3.9</td>\n",
       "      <td>63218</td>\n",
       "    </tr>\n",
       "    <tr>\n",
       "      <th>11</th>\n",
       "      <td>4.0</td>\n",
       "      <td>55794</td>\n",
       "    </tr>\n",
       "    <tr>\n",
       "      <th>12</th>\n",
       "      <td>4.0</td>\n",
       "      <td>56957</td>\n",
       "    </tr>\n",
       "    <tr>\n",
       "      <th>13</th>\n",
       "      <td>4.1</td>\n",
       "      <td>57081</td>\n",
       "    </tr>\n",
       "    <tr>\n",
       "      <th>14</th>\n",
       "      <td>4.5</td>\n",
       "      <td>61111</td>\n",
       "    </tr>\n",
       "    <tr>\n",
       "      <th>15</th>\n",
       "      <td>4.9</td>\n",
       "      <td>67938</td>\n",
       "    </tr>\n",
       "    <tr>\n",
       "      <th>16</th>\n",
       "      <td>5.1</td>\n",
       "      <td>66029</td>\n",
       "    </tr>\n",
       "    <tr>\n",
       "      <th>17</th>\n",
       "      <td>5.3</td>\n",
       "      <td>83088</td>\n",
       "    </tr>\n",
       "    <tr>\n",
       "      <th>18</th>\n",
       "      <td>5.9</td>\n",
       "      <td>81363</td>\n",
       "    </tr>\n",
       "    <tr>\n",
       "      <th>19</th>\n",
       "      <td>6.0</td>\n",
       "      <td>93940</td>\n",
       "    </tr>\n",
       "    <tr>\n",
       "      <th>20</th>\n",
       "      <td>6.8</td>\n",
       "      <td>91738</td>\n",
       "    </tr>\n",
       "    <tr>\n",
       "      <th>21</th>\n",
       "      <td>7.1</td>\n",
       "      <td>98273</td>\n",
       "    </tr>\n",
       "    <tr>\n",
       "      <th>22</th>\n",
       "      <td>7.9</td>\n",
       "      <td>101302</td>\n",
       "    </tr>\n",
       "    <tr>\n",
       "      <th>23</th>\n",
       "      <td>8.2</td>\n",
       "      <td>113812</td>\n",
       "    </tr>\n",
       "    <tr>\n",
       "      <th>24</th>\n",
       "      <td>8.7</td>\n",
       "      <td>109431</td>\n",
       "    </tr>\n",
       "    <tr>\n",
       "      <th>25</th>\n",
       "      <td>9.0</td>\n",
       "      <td>105582</td>\n",
       "    </tr>\n",
       "    <tr>\n",
       "      <th>26</th>\n",
       "      <td>9.5</td>\n",
       "      <td>116969</td>\n",
       "    </tr>\n",
       "    <tr>\n",
       "      <th>27</th>\n",
       "      <td>9.6</td>\n",
       "      <td>112635</td>\n",
       "    </tr>\n",
       "    <tr>\n",
       "      <th>28</th>\n",
       "      <td>10.3</td>\n",
       "      <td>122391</td>\n",
       "    </tr>\n",
       "    <tr>\n",
       "      <th>29</th>\n",
       "      <td>10.5</td>\n",
       "      <td>121872</td>\n",
       "    </tr>\n",
       "    <tr>\n",
       "      <th>30</th>\n",
       "      <td>11.2</td>\n",
       "      <td>127345</td>\n",
       "    </tr>\n",
       "    <tr>\n",
       "      <th>31</th>\n",
       "      <td>11.5</td>\n",
       "      <td>126756</td>\n",
       "    </tr>\n",
       "    <tr>\n",
       "      <th>32</th>\n",
       "      <td>12.3</td>\n",
       "      <td>128765</td>\n",
       "    </tr>\n",
       "    <tr>\n",
       "      <th>33</th>\n",
       "      <td>12.9</td>\n",
       "      <td>135675</td>\n",
       "    </tr>\n",
       "    <tr>\n",
       "      <th>34</th>\n",
       "      <td>13.5</td>\n",
       "      <td>139465</td>\n",
       "    </tr>\n",
       "  </tbody>\n",
       "</table>\n",
       "</div>"
      ],
      "text/plain": [
       "    YearsExperience  Salary\n",
       "0               1.1   39343\n",
       "1               1.3   46205\n",
       "2               1.5   37731\n",
       "3               2.0   43525\n",
       "4               2.2   39891\n",
       "5               2.9   56642\n",
       "6               3.0   60150\n",
       "7               3.2   54445\n",
       "8               3.2   64445\n",
       "9               3.7   57189\n",
       "10              3.9   63218\n",
       "11              4.0   55794\n",
       "12              4.0   56957\n",
       "13              4.1   57081\n",
       "14              4.5   61111\n",
       "15              4.9   67938\n",
       "16              5.1   66029\n",
       "17              5.3   83088\n",
       "18              5.9   81363\n",
       "19              6.0   93940\n",
       "20              6.8   91738\n",
       "21              7.1   98273\n",
       "22              7.9  101302\n",
       "23              8.2  113812\n",
       "24              8.7  109431\n",
       "25              9.0  105582\n",
       "26              9.5  116969\n",
       "27              9.6  112635\n",
       "28             10.3  122391\n",
       "29             10.5  121872\n",
       "30             11.2  127345\n",
       "31             11.5  126756\n",
       "32             12.3  128765\n",
       "33             12.9  135675\n",
       "34             13.5  139465"
      ]
     },
     "execution_count": 4,
     "metadata": {},
     "output_type": "execute_result"
    }
   ],
   "source": [
    "salary_df"
   ]
  },
  {
   "cell_type": "markdown",
   "metadata": {},
   "source": [
    "MINI CHALLENGE\n",
    " - Use head and tail methods to print the first and last 7 rows of the dataframe\n",
    " - Try to find the maximum salary value in the dataframe "
   ]
  },
  {
   "cell_type": "code",
   "execution_count": null,
   "metadata": {},
   "outputs": [],
   "source": []
  },
  {
   "cell_type": "markdown",
   "metadata": {
    "colab_type": "text",
    "id": "tMcr7xqMQre2"
   },
   "source": [
    "# TASK #3: PERFORM EXPLORATORY DATA ANALYSIS AND VISUALIZATION"
   ]
  },
  {
   "cell_type": "code",
   "execution_count": 5,
   "metadata": {},
   "outputs": [
    {
     "data": {
      "text/html": [
       "<div>\n",
       "<style scoped>\n",
       "    .dataframe tbody tr th:only-of-type {\n",
       "        vertical-align: middle;\n",
       "    }\n",
       "\n",
       "    .dataframe tbody tr th {\n",
       "        vertical-align: top;\n",
       "    }\n",
       "\n",
       "    .dataframe thead th {\n",
       "        text-align: right;\n",
       "    }\n",
       "</style>\n",
       "<table border=\"1\" class=\"dataframe\">\n",
       "  <thead>\n",
       "    <tr style=\"text-align: right;\">\n",
       "      <th></th>\n",
       "      <th>YearsExperience</th>\n",
       "      <th>Salary</th>\n",
       "    </tr>\n",
       "  </thead>\n",
       "  <tbody>\n",
       "    <tr>\n",
       "      <th>0</th>\n",
       "      <td>False</td>\n",
       "      <td>False</td>\n",
       "    </tr>\n",
       "    <tr>\n",
       "      <th>1</th>\n",
       "      <td>False</td>\n",
       "      <td>False</td>\n",
       "    </tr>\n",
       "    <tr>\n",
       "      <th>2</th>\n",
       "      <td>False</td>\n",
       "      <td>False</td>\n",
       "    </tr>\n",
       "    <tr>\n",
       "      <th>3</th>\n",
       "      <td>False</td>\n",
       "      <td>False</td>\n",
       "    </tr>\n",
       "    <tr>\n",
       "      <th>4</th>\n",
       "      <td>False</td>\n",
       "      <td>False</td>\n",
       "    </tr>\n",
       "    <tr>\n",
       "      <th>5</th>\n",
       "      <td>False</td>\n",
       "      <td>False</td>\n",
       "    </tr>\n",
       "    <tr>\n",
       "      <th>6</th>\n",
       "      <td>False</td>\n",
       "      <td>False</td>\n",
       "    </tr>\n",
       "    <tr>\n",
       "      <th>7</th>\n",
       "      <td>False</td>\n",
       "      <td>False</td>\n",
       "    </tr>\n",
       "    <tr>\n",
       "      <th>8</th>\n",
       "      <td>False</td>\n",
       "      <td>False</td>\n",
       "    </tr>\n",
       "    <tr>\n",
       "      <th>9</th>\n",
       "      <td>False</td>\n",
       "      <td>False</td>\n",
       "    </tr>\n",
       "    <tr>\n",
       "      <th>10</th>\n",
       "      <td>False</td>\n",
       "      <td>False</td>\n",
       "    </tr>\n",
       "    <tr>\n",
       "      <th>11</th>\n",
       "      <td>False</td>\n",
       "      <td>False</td>\n",
       "    </tr>\n",
       "    <tr>\n",
       "      <th>12</th>\n",
       "      <td>False</td>\n",
       "      <td>False</td>\n",
       "    </tr>\n",
       "    <tr>\n",
       "      <th>13</th>\n",
       "      <td>False</td>\n",
       "      <td>False</td>\n",
       "    </tr>\n",
       "    <tr>\n",
       "      <th>14</th>\n",
       "      <td>False</td>\n",
       "      <td>False</td>\n",
       "    </tr>\n",
       "    <tr>\n",
       "      <th>15</th>\n",
       "      <td>False</td>\n",
       "      <td>False</td>\n",
       "    </tr>\n",
       "    <tr>\n",
       "      <th>16</th>\n",
       "      <td>False</td>\n",
       "      <td>False</td>\n",
       "    </tr>\n",
       "    <tr>\n",
       "      <th>17</th>\n",
       "      <td>False</td>\n",
       "      <td>False</td>\n",
       "    </tr>\n",
       "    <tr>\n",
       "      <th>18</th>\n",
       "      <td>False</td>\n",
       "      <td>False</td>\n",
       "    </tr>\n",
       "    <tr>\n",
       "      <th>19</th>\n",
       "      <td>False</td>\n",
       "      <td>False</td>\n",
       "    </tr>\n",
       "    <tr>\n",
       "      <th>20</th>\n",
       "      <td>False</td>\n",
       "      <td>False</td>\n",
       "    </tr>\n",
       "    <tr>\n",
       "      <th>21</th>\n",
       "      <td>False</td>\n",
       "      <td>False</td>\n",
       "    </tr>\n",
       "    <tr>\n",
       "      <th>22</th>\n",
       "      <td>False</td>\n",
       "      <td>False</td>\n",
       "    </tr>\n",
       "    <tr>\n",
       "      <th>23</th>\n",
       "      <td>False</td>\n",
       "      <td>False</td>\n",
       "    </tr>\n",
       "    <tr>\n",
       "      <th>24</th>\n",
       "      <td>False</td>\n",
       "      <td>False</td>\n",
       "    </tr>\n",
       "    <tr>\n",
       "      <th>25</th>\n",
       "      <td>False</td>\n",
       "      <td>False</td>\n",
       "    </tr>\n",
       "    <tr>\n",
       "      <th>26</th>\n",
       "      <td>False</td>\n",
       "      <td>False</td>\n",
       "    </tr>\n",
       "    <tr>\n",
       "      <th>27</th>\n",
       "      <td>False</td>\n",
       "      <td>False</td>\n",
       "    </tr>\n",
       "    <tr>\n",
       "      <th>28</th>\n",
       "      <td>False</td>\n",
       "      <td>False</td>\n",
       "    </tr>\n",
       "    <tr>\n",
       "      <th>29</th>\n",
       "      <td>False</td>\n",
       "      <td>False</td>\n",
       "    </tr>\n",
       "    <tr>\n",
       "      <th>30</th>\n",
       "      <td>False</td>\n",
       "      <td>False</td>\n",
       "    </tr>\n",
       "    <tr>\n",
       "      <th>31</th>\n",
       "      <td>False</td>\n",
       "      <td>False</td>\n",
       "    </tr>\n",
       "    <tr>\n",
       "      <th>32</th>\n",
       "      <td>False</td>\n",
       "      <td>False</td>\n",
       "    </tr>\n",
       "    <tr>\n",
       "      <th>33</th>\n",
       "      <td>False</td>\n",
       "      <td>False</td>\n",
       "    </tr>\n",
       "    <tr>\n",
       "      <th>34</th>\n",
       "      <td>False</td>\n",
       "      <td>False</td>\n",
       "    </tr>\n",
       "  </tbody>\n",
       "</table>\n",
       "</div>"
      ],
      "text/plain": [
       "    YearsExperience  Salary\n",
       "0             False   False\n",
       "1             False   False\n",
       "2             False   False\n",
       "3             False   False\n",
       "4             False   False\n",
       "5             False   False\n",
       "6             False   False\n",
       "7             False   False\n",
       "8             False   False\n",
       "9             False   False\n",
       "10            False   False\n",
       "11            False   False\n",
       "12            False   False\n",
       "13            False   False\n",
       "14            False   False\n",
       "15            False   False\n",
       "16            False   False\n",
       "17            False   False\n",
       "18            False   False\n",
       "19            False   False\n",
       "20            False   False\n",
       "21            False   False\n",
       "22            False   False\n",
       "23            False   False\n",
       "24            False   False\n",
       "25            False   False\n",
       "26            False   False\n",
       "27            False   False\n",
       "28            False   False\n",
       "29            False   False\n",
       "30            False   False\n",
       "31            False   False\n",
       "32            False   False\n",
       "33            False   False\n",
       "34            False   False"
      ]
     },
     "execution_count": 5,
     "metadata": {},
     "output_type": "execute_result"
    }
   ],
   "source": [
    "salary_df.isnull()"
   ]
  },
  {
   "cell_type": "code",
   "execution_count": 6,
   "metadata": {},
   "outputs": [
    {
     "data": {
      "image/png": "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",
      "text/plain": [
       "<Figure size 640x480 with 1 Axes>"
      ]
     },
     "metadata": {},
     "output_type": "display_data"
    }
   ],
   "source": [
    "# check if there are any Null values\n",
    "sns.heatmap(salary_df.isnull(), yticklabels = False, cbar = False, cmap=\"Blues\")\n",
    "plt.show()\n"
   ]
  },
  {
   "cell_type": "code",
   "execution_count": 7,
   "metadata": {
    "colab": {
     "base_uri": "https://localhost:8080/",
     "height": 272
    },
    "colab_type": "code",
    "id": "hMq3-KWOx0e1",
    "outputId": "22a5b184-1f07-46ef-dfc1-f8377fd7042f",
    "scrolled": true
   },
   "outputs": [
    {
     "name": "stdout",
     "output_type": "stream",
     "text": [
      "<class 'pandas.core.frame.DataFrame'>\n",
      "RangeIndex: 35 entries, 0 to 34\n",
      "Data columns (total 2 columns):\n",
      " #   Column           Non-Null Count  Dtype  \n",
      "---  ------           --------------  -----  \n",
      " 0   YearsExperience  35 non-null     float64\n",
      " 1   Salary           35 non-null     int64  \n",
      "dtypes: float64(1), int64(1)\n",
      "memory usage: 688.0 bytes\n"
     ]
    }
   ],
   "source": [
    "# Check the dataframe info\n",
    "salary_df.info()"
   ]
  },
  {
   "cell_type": "code",
   "execution_count": 8,
   "metadata": {
    "colab": {
     "base_uri": "https://localhost:8080/",
     "height": 297
    },
    "colab_type": "code",
    "id": "Nn1Oxk2SzPX3",
    "outputId": "95f0265a-5e75-4a32-d771-4b3d15850c3c"
   },
   "outputs": [
    {
     "data": {
      "text/html": [
       "<div>\n",
       "<style scoped>\n",
       "    .dataframe tbody tr th:only-of-type {\n",
       "        vertical-align: middle;\n",
       "    }\n",
       "\n",
       "    .dataframe tbody tr th {\n",
       "        vertical-align: top;\n",
       "    }\n",
       "\n",
       "    .dataframe thead th {\n",
       "        text-align: right;\n",
       "    }\n",
       "</style>\n",
       "<table border=\"1\" class=\"dataframe\">\n",
       "  <thead>\n",
       "    <tr style=\"text-align: right;\">\n",
       "      <th></th>\n",
       "      <th>YearsExperience</th>\n",
       "      <th>Salary</th>\n",
       "    </tr>\n",
       "  </thead>\n",
       "  <tbody>\n",
       "    <tr>\n",
       "      <th>count</th>\n",
       "      <td>35.000000</td>\n",
       "      <td>35.000000</td>\n",
       "    </tr>\n",
       "    <tr>\n",
       "      <th>mean</th>\n",
       "      <td>6.308571</td>\n",
       "      <td>83945.600000</td>\n",
       "    </tr>\n",
       "    <tr>\n",
       "      <th>std</th>\n",
       "      <td>3.618610</td>\n",
       "      <td>32162.673003</td>\n",
       "    </tr>\n",
       "    <tr>\n",
       "      <th>min</th>\n",
       "      <td>1.100000</td>\n",
       "      <td>37731.000000</td>\n",
       "    </tr>\n",
       "    <tr>\n",
       "      <th>25%</th>\n",
       "      <td>3.450000</td>\n",
       "      <td>57019.000000</td>\n",
       "    </tr>\n",
       "    <tr>\n",
       "      <th>50%</th>\n",
       "      <td>5.300000</td>\n",
       "      <td>81363.000000</td>\n",
       "    </tr>\n",
       "    <tr>\n",
       "      <th>75%</th>\n",
       "      <td>9.250000</td>\n",
       "      <td>113223.500000</td>\n",
       "    </tr>\n",
       "    <tr>\n",
       "      <th>max</th>\n",
       "      <td>13.500000</td>\n",
       "      <td>139465.000000</td>\n",
       "    </tr>\n",
       "  </tbody>\n",
       "</table>\n",
       "</div>"
      ],
      "text/plain": [
       "       YearsExperience         Salary\n",
       "count        35.000000      35.000000\n",
       "mean          6.308571   83945.600000\n",
       "std           3.618610   32162.673003\n",
       "min           1.100000   37731.000000\n",
       "25%           3.450000   57019.000000\n",
       "50%           5.300000   81363.000000\n",
       "75%           9.250000  113223.500000\n",
       "max          13.500000  139465.000000"
      ]
     },
     "execution_count": 8,
     "metadata": {},
     "output_type": "execute_result"
    }
   ],
   "source": [
    "# Statistical summary of the dataframe\n",
    "\n",
    "salary_df.describe()"
   ]
  },
  {
   "cell_type": "markdown",
   "metadata": {},
   "source": [
    "MINI CHALLENGE\n",
    " - What are the number of years of experience corresponding to employees with minimum and maximim salaries?"
   ]
  },
  {
   "cell_type": "code",
   "execution_count": null,
   "metadata": {},
   "outputs": [],
   "source": []
  },
  {
   "cell_type": "code",
   "execution_count": 9,
   "metadata": {},
   "outputs": [
    {
     "data": {
      "image/png": "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",
      "text/plain": [
       "<Figure size 2000x1000 with 2 Axes>"
      ]
     },
     "metadata": {},
     "output_type": "display_data"
    }
   ],
   "source": [
    "salary_df.hist(bins = 30, figsize = (20,10), color = 'r')\n",
    "plt.show()"
   ]
  },
  {
   "cell_type": "code",
   "execution_count": 10,
   "metadata": {
    "colab": {
     "base_uri": "https://localhost:8080/",
     "height": 1000
    },
    "colab_type": "code",
    "id": "Ka9uFRXSkWHw",
    "outputId": "f42a681e-93d4-4b1f-a29c-f58fc8a6f974"
   },
   "outputs": [
    {
     "data": {
      "image/png": "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",
      "text/plain": [
       "<Figure size 500x500 with 6 Axes>"
      ]
     },
     "metadata": {},
     "output_type": "display_data"
    }
   ],
   "source": [
    "# plot pairplot\n",
    "sns.pairplot(salary_df)\n",
    "plt.show()"
   ]
  },
  {
   "cell_type": "code",
   "execution_count": 11,
   "metadata": {
    "colab": {
     "base_uri": "https://localhost:8080/",
     "height": 297
    },
    "colab_type": "code",
    "id": "9q-tFxvskWDa",
    "outputId": "8834e9ec-7676-4e86-c5e7-20f4e9eccbcb"
   },
   "outputs": [
    {
     "data": {
      "image/png": "iVBORw0KGgoAAAANSUhEUgAAAhUAAAGiCAYAAABQwzQuAAAAOXRFWHRTb2Z0d2FyZQBNYXRwbG90bGliIHZlcnNpb24zLjYuMiwgaHR0cHM6Ly9tYXRwbG90bGliLm9yZy8o6BhiAAAACXBIWXMAAA9hAAAPYQGoP6dpAABSg0lEQVR4nO3de1xU1fo/8A/XmREELyg4qCBooqiQiIh5ySRRvBIVevoqoZYUYohBkOAFNdI6pIEnyzIL7KSFmR5PIOGlNFIDURNvCEqCXLwcDeQ6s39/+HPbDGjMuBHUz/u89us0a5695tnzijPPWWvttQ0EQRBAREREdJ8MWzoBIiIiejSwqCAiIiJJsKggIiIiSbCoICIiIkmwqCAiIiJJsKggIiIiSbCoICIiIkmwqCAiIiJJsKggIiIiSbCoICIiIkmwqCAiImolfvrpJ0ycOBFKpRIGBgbYtm3b356zd+9eDBw4EDKZDD179sTGjRsbxKxduxb29vaQy+Xw8PDAoUOHNN6vrq5GcHAwOnbsCHNzc/j5+aG0tFTn/FlUEBERtRKVlZVwcXHB2rVrmxRfUFCA8ePHY9SoUcjJyUFoaChmz56NtLQ0MWbz5s0ICwvD4sWLkZ2dDRcXF3h7e6OsrEyMmT9/Pnbs2IFvvvkG+/btQ3FxMZ577jmd8zfgA8WIiIhaHwMDA3z33XeYMmXKXWPeeust7Ny5E7///rvYNnXqVPzvf/9DamoqAMDDwwPu7u5ITEwEAKjVanTr1g0hISGIjIzE9evX0alTJ3z11Vd4/vnnAQCnTp1Cnz59kJmZiSFDhjQ5Z45UEBERNaOamhrcuHFD46ipqZGk78zMTHh5eWm0eXt7IzMzEwBQW1uLrKwsjRhDQ0N4eXmJMVlZWairq9OIcXJyQvfu3cWYpjLW90KkVnc5v6VTIGp1FMrhLZ0CUatUX1vUrP1L+ZsUl/glli5dqtG2ePFiLFmy5L77LikpgbW1tUabtbU1bty4gaqqKly7dg0qlarRmFOnTol9mJqaol27dg1iSkpKdMqn1RQVRERErYZaJVlXUVFRCAsL02iTyWSS9d+asKggIiJqRjKZrNmKCBsbmwZ3aZSWlsLCwgIKhQJGRkYwMjJqNMbGxkbso7a2Fv/73/80Riv+GtNUXFNBRESkTVBLdzQjT09PZGRkaLSlp6fD09MTAGBqago3NzeNGLVajYyMDDHGzc0NJiYmGjGnT59GYWGhGNNUHKkgIiLSpm7eYuBuKioqkJeXJ74uKChATk4OOnTogO7duyMqKgpFRUX48ssvAQBBQUFITExEREQEZs6cid27d2PLli3YuXOn2EdYWBgCAgIwaNAgDB48GKtXr0ZlZSUCAwMBAJaWlpg1axbCwsLQoUMHWFhYICQkBJ6enjrd+QGwqCAiImpAaOYRhrv57bffMGrUKPH17bUYAQEB2LhxIy5duoTCwkLx/R49emDnzp2YP38+1qxZg65du+LTTz+Ft7e3GOPv74/y8nIsWrQIJSUlcHV1RWpqqsbizQ8++ACGhobw8/NDTU0NvL298a9//Uvn/FvNPhW8+4OoId79QdS45r77o7b4hGR9mSqdJeurteNIBRERkbYWmv542LGoICIi0tZC0x8PO979QURERJLgSAUREZE2CTe/epywqCAiItLG6Q+9cPqDiIiIJMGRCiIiIm28+0MvLCqIiIi0tNTmVw87Tn8QERGRJDhSQUREpI3TH3phUUFERKSN0x96YVFBRESkjftU6IVrKoiIiEgSHKkgIiLSxukPvbCoICIi0saFmnrh9AcRERFJgiMVRERE2jj9oRcWFURERNo4/aEXTn8QERGRJDhSQUREpEUQuE+FPlhUEBERaeOaCr1w+oOIiIgkwZEKIiIibVyoqRcWFURERNo4/aEXFhVERETa+EAxvXBNBREREUmCIxVERETaOP2hFxYVRERE2rhQUy+c/iAiIiJJcKSCiIhIG6c/9KL3SEVtbS1Onz6N+vp6KfMhIiJqeWq1dMdjROei4ubNm5g1axbatGkDZ2dnFBYWAgBCQkLw7rvvSp4gERHR42Tt2rWwt7eHXC6Hh4cHDh06dNfYuro6xMbGwtHREXK5HC4uLkhNTdWI+fPPPxEaGgo7OzsoFAoMHToUhw8f1oipqKjA3Llz0bVrVygUCvTt2xfr1q3TOXedi4qoqCgcPXoUe/fuhVwuF9u9vLywefNmnRMgIiJqdVpopGLz5s0ICwvD4sWLkZ2dDRcXF3h7e6OsrKzR+OjoaHz88cdISEhAbm4ugoKC4OvriyNHjogxs2fPRnp6OpKSknD8+HGMGTMGXl5eKCoqEmPCwsKQmpqK5ORknDx5EqGhoZg7dy62b9+uU/4GgiAIupxgZ2eHzZs3Y8iQIWjbti2OHj0KBwcH5OXlYeDAgbhx44ZOCdxWdzlfr/OIHmUK5fCWToGoVaqvLfr7oPtQ9dNGyfpSjHi5ybEeHh5wd3dHYmIiAECtVqNbt24ICQlBZGRkg3ilUomFCxciODhYbPPz84NCoUBycjKqqqrQtm1bfP/99xg/frwY4+bmhnHjxmH58uUAgH79+sHf3x8xMTF3jWkKnUcqysvL0blz5wbtlZWVMDAw0LU7IiKiR1pNTQ1u3LihcdTU1DSIq62tRVZWFry8vMQ2Q0NDeHl5ITMz8659/3XWAAAUCgX2798PAKivr4dKpbpnDAAMHToU27dvR1FREQRBwJ49e3DmzBmMGTNGp2vVuagYNGgQdu7cKb6+XUh8+umn8PT01LU7IiKi1kfC6Y+4uDhYWlpqHHFxcQ0+8vLly1CpVLC2ttZot7a2RklJSaNpent7Iz4+HmfPnoVarUZ6ejq2bt2KS5cuAQDatm0LT09PLFu2DMXFxVCpVEhOTkZmZqYYAwAJCQno27cvunbtClNTU4wdOxZr167FiBEjdPradL6l9J133sG4ceOQm5uL+vp6rFmzBrm5ufjll1+wb98+XbsjIiJqfSS8pTQqKgphYWEabTKZTJK+16xZg1deeQVOTk4wMDCAo6MjAgMDsWHDBjEmKSkJM2fOhK2tLYyMjDBw4EBMmzYNWVlZYkxCQgJ+/fVXbN++HXZ2dvjpp58QHBwMpVKpMXLyd3QeqRg2bBhycnJQX1+P/v37Y9euXejcuTMyMzPh5uama3dEREStj4QjFTKZDBYWFhpHY0WFlZUVjIyMUFpaqtFeWloKGxubRtPs1KkTtm3bhsrKSly4cAGnTp2Cubk5HBwcxBhHR0fs27cPFRUV+OOPP3Do0CHU1dWJMVVVVXj77bcRHx+PiRMnYsCAAZg7dy78/f3x/vvv6/S16bX5laOjI9avX6/PqURERNQIU1NTuLm5ISMjA1OmTAFwa6FmRkYG5s6de89z5XI5bG1tUVdXh5SUFLz44osNYszMzGBmZoZr164hLS0Nq1atAnDrttS6ujoYGmqOMxgZGUGt490rOhcV//3vf2FkZARvb2+N9rS0NKjVaowbN07XLomIiFqXFtpRMywsDAEBARg0aBAGDx6M1atXo7KyEoGBgQCAGTNmwNbWVlyTcfDgQRQVFcHV1RVFRUVYsmQJ1Go1IiIixD7T0tIgCAJ69+6NvLw8hIeHw8nJSezTwsICI0eORHh4OBQKBezs7LBv3z58+eWXiI+P1yl/nYuKyMjIRje5EgQBkZGRLCqIiOjh10I7Yfr7+6O8vByLFi1CSUkJXF1dkZqaKi7eLCws1BhRqK6uRnR0NPLz82Fubg4fHx8kJSWhXbt2Ysz169cRFRWFixcvokOHDvDz88OKFStgYmIixnz99deIiorCSy+9hKtXr8LOzg4rVqxAUFCQTvnrvE+FQqHAyZMnYW9vr9F+/vx5ODs7o7KyUqcEbuM+FUQNcZ8KosY1+z4Vu/4lWV+KMa9L1ldrp/NCTUtLS+TnNywA8vLyYGZmJklSRERELUpQS3c8RnQuKiZPnozQ0FCcO3dObMvLy8OCBQswadIkSZMjIiJqEXygmF50LipWrVoFMzMzODk5oUePHujRowf69OmDjh076nzrCRERET06dF6oaWlpiV9++QXp6ek4evQoFAoFBgwYoPOuW0RERK3WYzbCIBW99qkwMDDAmDFjdN4TnIiI6KHwmK2FkIpeRUVGRgYyMjJQVlbWYGOMv24NSkRERI8PnYuKpUuXIjY2FoMGDUKXLl34ZFIiInr0cPpDLzoXFevWrcPGjRsxffr05siHiIio5XH6Qy86FxW1tbUYOnRoc+RCRETUOnCkQi8631I6e/ZsfPXVV82RCxERET3EdB6pqK6uxieffIIff/wRAwYM0Ng7HIDODx8hIiJqdTj9oRedi4pjx47B1dUVAPD7779rvMdFm0RE9Ejg9IdedC4q9uzZ0xx5EBER0UNO5zUVt+Xl5SEtLQ1VVVUAbj36nIiI6JHAZ3/oReei4sqVKxg9ejSeeOIJ+Pj44NKlSwCAWbNmYcGCBZInSERE9MAJgnTHY0TnomL+/PkwMTFBYWEh2rRpI7b7+/sjNTVV0uSIiIjo4aHzmopdu3YhLS0NXbt21Wjv1asXLly4IFliRERELeYxm7aQis5FRWVlpcYIxW1Xr16FTCaTJCkiIqIWxaJCLzpPfwwfPhxffvml+NrAwABqtRqrVq3CqFGjJE2OiIiIHh46j1SsWrUKo0ePxm+//Yba2lpERETgxIkTuHr1Kg4cONAcORIRET1Y3PxKLzqPVPTr1w9nzpzBsGHDMHnyZFRWVuK5557DkSNH4Ojo2Bw5EhERPVi8pVQvOo9UAIClpSUWLlwodS5EREStw2N2K6hUmlRUHDt2DP369YOhoSGOHTt2z9gBAwZIkhgRERE9XJpUVLi6uqKkpASdO3eGq6srDAwMGt1B08DAACqVSvIkiYiIHqjHbNpCKk0qKgoKCtCpUyfxn4mIiB5pLCr00qSiws7ODgBQV1eHpUuXIiYmBj169GjWxIiIiOjhotPdHyYmJkhJSWmuXIiIiFoHQS3d8RjR+ZbSKVOmYNu2bc2QChERUesgqAXJjseJzreU9urVC7GxsThw4ADc3NxgZmam8f68efMkS46IiIgeHgZCY7dx3MO91lIYGBggPz9fr0TqLut3HtGjTKEc3tIpELVK9bVFzdr/zXVvSNZXm6A1kvXV2uk8UsG7P4iI6JH3mK2FkIrOaypuq62txenTp1FfXy9lPkRERI+1tWvXwt7eHnK5HB4eHjh06NBdY+vq6hAbGwtHR0fI5XK4uLggNTVVI+bPP/9EaGgo7OzsoFAoMHToUBw+fLhBXydPnsSkSZNgaWkJMzMzuLu7o7CwUKfcdS4qbt68iVmzZqFNmzZwdnYWPzAkJATvvvuurt0RERG1PmpBukMHmzdvRlhYGBYvXozs7Gy4uLjA29sbZWVljcZHR0fj448/RkJCAnJzcxEUFARfX18cOXJEjJk9ezbS09ORlJSE48ePY8yYMfDy8kJR0Z0ppHPnzmHYsGFwcnLC3r17cezYMcTExEAul+uUv85rKt544w0cOHAAq1evxtixY3Hs2DE4ODjg+++/x5IlSzQuRBdcU0HUENdUEDWu2ddUJLwuWV9tQv7V5FgPDw+4u7sjMTERAKBWq9GtWzeEhIQgMjKyQbxSqcTChQsRHBwstvn5+UGhUCA5ORlVVVVo27Ytvv/+e4wfP16McXNzw7hx47B8+XIAwNSpU2FiYoKkpCR9LxOAHiMV27ZtQ2JiIoYNGwYDAwOx3dnZGefOnbuvZIiIiFoFCZ9SWlNTgxs3bmgcNTU1DT6ytrYWWVlZ8PLyEtsMDQ3h5eWFzMzMRtOsqalpMJqgUCiwf/9+AEB9fT1UKtU9Y9RqNXbu3IknnngC3t7e6Ny5Mzw8PPTaPkLnoqK8vBydO3du0F5ZWalRZBAREREQFxcHS0tLjSMuLq5B3OXLl6FSqWBtba3Rbm1tjZKSkkb79vb2Rnx8PM6ePQu1Wo309HRs3boVly5dAgC0bdsWnp6eWLZsGYqLi6FSqZCcnIzMzEwxpqysDBUVFXj33XcxduxY7Nq1C76+vnjuueewb98+na5V56Ji0KBB2Llzp/j6diHx6aefwtPTU9fuiIiIWh9BkOyIiorC9evXNY6oqChJ0lyzZg169eoFJycnmJqaYu7cuQgMDISh4Z2f96SkJAiCAFtbW8hkMnz44YeYNm2aGKP+/885mTx5MubPnw9XV1dERkZiwoQJWLdunU756HxL6TvvvINx48YhNzcX9fX1WLNmDXJzc/HLL7/oXNEQERG1ShI+UEwmk0Emk/1tnJWVFYyMjFBaWqrRXlpaChsbm0bP6dSpE7Zt24bq6mpcuXIFSqUSkZGRcHBwEGMcHR2xb98+VFZW4saNG+jSpQv8/f3FGCsrKxgbG6Nv374afffp00ecImkqnUcqhg0bhpycHNTX16N///7YtWsXOnfujMzMTLi5uenaHbUSv+UcR3DEYoya9BL6PTUOGT/90tIpETWr14ICkHfmV1TcOIdf9u+A+yDXu8YaGxsjemEoTp88gIob55D1Wzq8xzytEWNoaIilS8Jx9nQm/ryeh9MnD2Dh26HNeg30aDE1NYWbmxsyMjLENrVajYyMjL+dCZDL5bC1tUV9fT1SUlIwefLkBjFmZmbo0qULrl27hrS0NDHG1NQU7u7uOH36tEb8mTNnxAeKNpXOIxXArapn/fr1+pxKrVRVVTV693SA7/gxCH17eUunQ9SsXnhhEt5/bzFeD47EocNHMC9kNv67cxP69huB8vIrDeKXxUbgH9OeQ9BrETh1Og9jnn0a337zKYaPnIycnBMAgIjwYMx5dQZmzgrFidzTcHNzwWfr43H9+g0krt3woC+R7lcLPbMjLCwMAQEBGDRoEAYPHozVq1ejsrISgYGBAIAZM2bA1tZWXJNx8OBBFBUVwdXVFUVFRViyZAnUajUiIiLEPtPS0iAIAnr37o28vDyEh4fDyclJ7BMAwsPD4e/vjxEjRmDUqFFITU3Fjh07sHfvXp3y16uoUKlU+O6773Dy5EkAQN++fTF58mQYG+vVHbUCwz3dMdzTvaXTIHog5r/xCj797Ct88eUWAMDrwZHwGTcagS9Pxar31jaIf+kffoh790P8kLobAPDxJ19i9OhhmB86BwEv33rekeeQQdi+Iw3//eHW/8u8cOEipvpPhru764O5KJJWC+2o6e/vj/LycixatAglJSVwdXVFamqquHizsLBQY71EdXU1oqOjkZ+fD3Nzc/j4+CApKQnt2rUTY26v4bh48SI6dOgAPz8/rFixAiYmJmKMr68v1q1bh7i4OMybNw+9e/dGSkoKhg0bplP+OlcBJ06cwKRJk1BSUoLevXsDAFauXIlOnTphx44d6Nevn65dEhE9MCYmJhg4cADeXZUotgmCgIzd+zFkSONTuDKZDNXVmrcAVlVV46mhg8XXmb/+htmzXkKvXg44ezYfAwb0xVNDB+PNiKXNcyH0yJo7dy7mzp3b6HvaIwcjR45Ebm7uPft78cUX8eKLL/7t586cORMzZ85scp6N0bmomD17NpydnfHbb7+hffv2AIBr167h5Zdfxquvvopffvn7ufiampoG9+ga1tQ0aSELEdH9sLLqAGNjY5SVXtZoLysrh1Nvx0bP2ZW+F6Ghr+Ln/Qdx7tx5jH5mGHyn+MDI6M7/Y1y5KhEWFuY4cXwfVCoVjIyMELNoJf797++a9XqomTxmjyyXis4LNXNychAXFycWFADQvn17rFixosm7aTZ2z+7KNbrdtkJE9KDMD1uEvLwCnDi+D1WV57FmzQps/GKzeCseALzwwkRMm/oc/m9GMNw9xiJwVijC5gdh+vQXWjBz0pegVkt2PE50Hql44oknUFpaCmdnZ432srIy9OzZs0l9REVFISwsTKPN8M/m3XKViAgALl++ivr6enS2ttJo79y5E0pKy+96jt/zsyCTydCxY3sUF5cg7p23kV9w52FLK+NisOq9RGzZsh0A8Pvvp2DXvSveipiLpKRvmu+CiFoRnUcqbi/i+Pbbb3Hx4kVcvHgR3377LUJDQ7Fy5UqNbUjvRiaTwcLCQuPg1AcRPQh1dXXIzj6GZ0bdWYBmYGCAZ0YNw6+/Zt3z3JqaGhQXl8DY2Bi+U3ywY8cu8b02bRRQaw2Zq1QqjUV19BBpoQeKPex0HqmYMGECgFsLP27vpnn7mWQTJ04UXxsYGEClUkmVJzWzmzerUHixWHxdVFyKU2fOwdKiLbrYNNyWnehh9sGa9fj8sw+QlX0Mhw8fwbyQV2BmpsDGLzYDAD7fsAbFxZewMPrWk5cHuz8Jpa0Njh49AVulDRbFLIChoSHee//Og6L+szMdUZHz8McfRTiRexqurv0Q+sar2PjF1y1yjXSfWujuj4edzkXFnj17miMPamG/nzqLmSFvia9XJXwCAJg8zgsrohe0VFpEzeKbb7ajk1UHLFn0JmxsOuHo0RMYP+H/UFZ2a/Fm925KjfUScrkMsUsj4NCjOyoqbuKH1N0ICJyH69fvjMi+ERqNpUsikPDhO+jcuSOKi0ux/tNkLFv+wQO/PpLAYzbCIBWdH33eXPjoc6KG+OhzosY196PPK2Nfkqwvs0WbJOurtdN5su/2bl3arl+/jmnTpkmSFBERUYuS8NHnjxOdi4rPPvsMw4YNQ37+nZGFvXv3on///jh37pykyREREbUILtTUi85FxbFjx9C1a1e4urpi/fr1CA8Px5gxYzB9+vQmbXxFREREjyadF2q2b98eW7Zswdtvv405c+bA2NgYP/zwA0aPHt0c+RERET14vPtDL3rdQJ2QkIA1a9Zg2rRpcHBwwLx583D06FGpcyMiImoZnP7Qi85FxdixY7F06VJ88cUX2LRpE44cOYIRI0ZgyJAhWLVqVXPkSERERA8BnYsKlUqFY8eO4fnnnwcAKBQKfPTRR/j222/xwQe8H5uIiB5+fPaHfnReU5Gent5o+/jx43H8+PH7ToiIiKjFPWbTFlJp8kjFoUOH7rntdk1NDXbv3i1JUkRERPTwaXJR4enpiStXroivLSwsNPaq+N///sfNr4iI6NHAhZp6afL0h/Zu3o3t7t1KdvwmIiK6P7ylVC86r6m4l9tPLSUiInqoPWYjDFLRa58KIiIiIm06jVTk5uaipKQEwK2pjlOnTqGiogIAcPnyZemzIyIiagECRyr0olNRMXr0aI11ExMmTABwa9pDEAROfxAR0aOBRYVemlxUFBQUNGceRERE9JBrclFhZ2fXnHkQERG1Ho/ZTphS0XmhZmpqKvbv3y++Xrt2LVxdXfGPf/wD165dkzQ5IiKiFsF9KvSic1ERHh6OGzduAACOHz+OBQsWwMfHBwUFBQgLC5M8QSIiIno46LxPRUFBAfr27QsASElJwYQJE/DOO+8gOzsbPj4+kidIRET0wD1mIwxS0XmkwtTUFDdv3gQA/PjjjxgzZgwAoEOHDuIIBhER0cNMEATJjseJziMVTz31FMLCwvDUU0/h0KFD2Lx5MwDgzJkz6Nq1q+QJEhER0cNB55GKtWvXwsTEBN9++y0++ugj2NraAgB++OEHjB07VvIEiYiIHjgu1NSLTiMV9fX12Lt3L9avXw8bGxuN9z744ANJEyMiImoxj1kxIBWdRiqMjY0RFBSEmpqa5sqHiIioxQlqQbJDV2vXroW9vT3kcjk8PDxw6NChu8bW1dUhNjYWjo6OkMvlcHFxQWpqqkbMn3/+idDQUNjZ2UGhUGDo0KE4fPjwXfsMCgqCgYEBVq9erXPuOk9/DB48GEeOHNH5g4iIiOjeNm/ejLCwMCxevBjZ2dlwcXGBt7c3ysrKGo2Pjo7Gxx9/jISEBOTm5iIoKAi+vr4av9OzZ89Geno6kpKScPz4cYwZMwZeXl4oKipq0N93332HX3/9FUqlUq/8DQQdl6Zu2bIFUVFRmD9/Ptzc3GBmZqbx/oABA/RKpO5yvl7nET3KFMrhLZ0CUatUX9vwB1FK1wNGS9aX5RcZTY718PCAu7s7EhMTAQBqtRrdunVDSEgIIiMjG8QrlUosXLgQwcHBYpufnx8UCgWSk5NRVVWFtm3b4vvvv8f48ePFGDc3N4wbNw7Lly8X24qKiuDh4YG0tDSMHz8eoaGhCA0N1eladb77Y+rUqQCAefPmiW1/faCYSqXStUsiIqLWRcJdumtqahosG5DJZJDJZBpttbW1yMrKQlRUlNhmaGgILy8vZGZm3rVvuVyu0aZQKMSdr+vr66FSqe4ZA9wqXqZPn47w8HA4OzvrfpG389X1hIKCggZHfn6++N9ERER0R1xcHCwtLTWOuLi4BnGXL1+GSqWCtbW1Rru1tTVKSkoa7dvb2xvx8fE4e/Ys1Go10tPTsXXrVly6dAkA0LZtW3h6emLZsmUoLi6GSqVCcnIyMjMzxRgAWLlyJYyNjTUGDPSh80gFHyxGRESPOn0WWN5NVFRUg8dYaI9S6GvNmjV45ZVX4OTkBAMDAzg6OiIwMBAbNmwQY5KSkjBz5kzY2trCyMgIAwcOxLRp05CVlQUAyMrKwpo1a5CdnQ0DA4P7ykfnouK23NxcFBYWora2VqN90qRJ95UQERFRi5OwqGhsqqMxVlZWMDIyQmlpqUZ7aWlpg20cbuvUqRO2bduG6upqXLlyBUqlEpGRkXBwcBBjHB0dsW/fPlRWVuLGjRvo0qUL/P39xZiff/4ZZWVl6N69u3iOSqXCggULsHr1apw/f77J16pzUZGfnw9fX18cP35cXEsBQKxuuKaCiIhId6ampnBzc0NGRgamTJkC4NZah4yMDMydO/ee58rlctja2qKurg4pKSl48cUXG8SYmZnBzMwM165dQ1paGlatWgUAmD59Ory8vDRivb29MX36dAQGBup0DToXFW+88QZ69OiBjIwM9OjRA4cOHcKVK1ewYMECvP/++7p2R0RE1PpIuFBTF2FhYQgICMCgQYMwePBgrF69GpWVleKP+4wZM2BrayuuyTh48CCKiorg6uqKoqIiLFmyBGq1GhEREWKfaWlpEAQBvXv3Rl5eHsLDw+Hk5CT22bFjR3Ts2FEjDxMTE9jY2KB379465a9zUZGZmYndu3fDysoKhoaGMDQ0xLBhwxAXF4d58+ZxDwsiInroSbmmQhf+/v4oLy/HokWLUFJSAldXV6SmpoqLNwsLC2FoeOcei+rqakRHRyM/Px/m5ubw8fFBUlIS2rVrJ8Zcv34dUVFRuHjxIjp06AA/Pz+sWLECJiYmkuev8z4V7du3R3Z2Nnr06AFHR0d8+umnGDVqFM6dO4f+/fuLTzDVFfepIGqI+1QQNa6596m49sLTkvXV/pu9kvXV2uk8UtGvXz8cPXoUPXr0gIeHB1atWgVTU1N88sknGgtDiIiIHlotNP3xsNO5qIiOjkZlZSUAIDY2FhMmTMDw4cPRsWNH8THoRERED7OWmv542OlcVHh7e4v/3LNnT5w6dQpXr15F+/bt7/v+ViIiolaBIxV60XlHzdvy8vKQlpaGqqoqdOjQQcqciIiI6CGkc1Fx5coVjB49Gk888QR8fHzEbT5nzZqFBQsWSJ4gERHRgyaopTseJzoXFfPnz4eJiQkKCwvRpk0bsd3f37/BM9yJiIgeSmoJj8eIzmsqdu3ahbS0NHTt2lWjvVevXrhw4YJkiREREdHDReeiorKyUmOE4rarV69K9oAUIiKilvS4TVtIpcnTH8XFxQCA4cOH48svvxTbDQwMoFarsWrVKowaNUr6DImIiB40Tn/opckjFc7Ozli7di3ee+89PPPMM/jtt99QW1uLiIgInDhxAlevXsWBAweaM1ciIiJqxZpcVKxYsQJz5szB2LFjkZubi3Xr1qFt27aoqKjAc889h+DgYHTp0qU5cyUiInogOP2hH52e/VFQUIBZs2YhNzcXn3zyCSZNmiRZInz2B1FDfPYHUeOa+9kfZaNHStZX54x9kvXV2um0ULNHjx7YvXs3EhMT4efnhz59+sDYWLOL7OxsSRMkIiJ60DhSoR+d7/64cOECtm7divbt22Py5MkNigoiIiJ6POlUEaxfvx4LFiyAl5cXTpw4gU6dOjVXXkRERC1H4LOs9NHkomLs2LE4dOgQEhMTMWPGjObMiYiIqEVx+kM/TS4qVCoVjh071mAnTSIiIiJAh6IiPT29OfMgIiJqNQQ1pz/0wVWWREREWjj9oR+dn1JKRERE1BiOVBAREWkRePeHXlhUEBERaeH0h344/UFERESS4EgFERGRFt79oR8WFURERFqa/qhN+isWFURERFo4UqEfrqkgIiIiSXCkgoiISAtHKvTDooKIiEgL11Toh9MfREREJAmOVBAREWnh9Id+OFJBRESkRRAMJDt0tXbtWtjb20Mul8PDwwOHDh26a2xdXR1iY2Ph6OgIuVwOFxcXpKamasT8+eefCA0NhZ2dHRQKBYYOHYrDhw9r9PHWW2+hf//+MDMzg1KpxIwZM1BcXKxz7iwqiIiIWonNmzcjLCwMixcvRnZ2NlxcXODt7Y2ysrJG46Ojo/Hxxx8jISEBubm5CAoKgq+vL44cOSLGzJ49G+np6UhKSsLx48cxZswYeHl5oaioCABw8+ZNZGdnIyYmBtnZ2di6dStOnz6NSZMm6Zy/gSC0juUodZfzWzoFolZHoRze0ikQtUr1tUXN2n9eX2/J+uqZm9bkWA8PD7i7uyMxMREAoFar0a1bN4SEhCAyMrJBvFKpxMKFCxEcHCy2+fn5QaFQIDk5GVVVVWjbti2+//57jB8/Xoxxc3PDuHHjsHz58kbzOHz4MAYPHowLFy6ge/fuTc6fayqIiIi0qCV8SmlNTQ1qamo02mQyGWQymUZbbW0tsrKyEBUVJbYZGhrCy8sLmZmZd+1bLpdrtCkUCuzfvx8AUF9fD5VKdc+Yxly/fh0GBgZo167d317fX3H6g4iIqBnFxcXB0tJS44iLi2sQd/nyZahUKlhbW2u0W1tbo6SkpNG+vb29ER8fj7Nnz0KtViM9PR1bt27FpUuXAABt27aFp6cnli1bhuLiYqhUKiQnJyMzM1OM0VZdXY233noL06ZNg4WFhU7XyqKCiIhIi5QLNaOionD9+nWN46+jEfdjzZo16NWrF5ycnGBqaoq5c+ciMDAQhoZ3ft6TkpIgCAJsbW0hk8nw4YcfYtq0aRoxt9XV1eHFF1+EIAj46KOPdM6HRQUREZEWQW0g2SGTyWBhYaFxaE99AICVlRWMjIxQWlqq0V5aWgobG5tG8+zUqRO2bduGyspKXLhwAadOnYK5uTkcHBzEGEdHR+zbtw8VFRX4448/cOjQIdTV1WnEAHcKigsXLiA9PV3nUQqARQUREVEDgiDd0VSmpqZwc3NDRkaG2KZWq5GRkQFPT897niuXy2Fra4v6+nqkpKRg8uTJDWLMzMzQpUsXXLt2DWlpaRoxtwuKs2fP4scff0THjh2bnvhfcKEmERFRKxEWFoaAgAAMGjQIgwcPxurVq1FZWYnAwEAAwIwZM2BrayuuyTh48CCKiorg6uqKoqIiLFmyBGq1GhEREWKfaWlpEAQBvXv3Rl5eHsLDw+Hk5CT2WVdXh+effx7Z2dn4z3/+A5VKJa7h6NChA0xNTZucP4sKIiIiLS21o6a/vz/Ky8uxaNEilJSUwNXVFampqeLizcLCQo21ENXV1YiOjkZ+fj7Mzc3h4+ODpKQkjbs2bq/huHjxIjp06AA/Pz+sWLECJiYmAICioiJs374dAODq6qqRz549e/D00083OX/uU0HUinGfCqLGNfc+Fb87TJCsr375/5Gsr9aOayqIiIhIEpz+ICIi0qLPMzuIRQUREVEDrWNhwMOH0x9EREQkCY5UEBERaZHy2R+PExYVREREWrimQj+c/iAiIiJJcKSCiIhICxdq6odFBRERkRauqdBPqykquHMgUUNVxT+3dApEjyWuqdAP11QQERGRJFrNSAUREVFrwekP/bCoICIi0sJ1mvrh9AcRERFJgiMVREREWjj9oR8WFURERFp494d+OP1BREREkuBIBRERkRZ1SyfwkGJRQUREpEUApz/0wekPIiIikgRHKoiIiLSouVGFXlhUEBERaVFz+kMvLCqIiIi0cE2FfrimgoiIiCTBkQoiIiItvKVUPywqiIiItHD6Qz+c/iAiIiJJcKSCiIhIC6c/9MOigoiISAuLCv1w+oOIiIgkwZEKIiIiLVyoqR+OVBAREWlRG0h36Grt2rWwt7eHXC6Hh4cHDh06dNfYuro6xMbGwtHREXK5HC4uLkhNTdWI+fPPPxEaGgo7OzsoFAoMHToUhw8f1ogRBAGLFi1Cly5doFAo4OXlhbNnz+qcO4sKIiKiVmLz5s0ICwvD4sWLkZ2dDRcXF3h7e6OsrKzR+OjoaHz88cdISEhAbm4ugoKC4OvriyNHjogxs2fPRnp6OpKSknD8+HGMGTMGXl5eKCoqEmNWrVqFDz/8EOvWrcPBgwdhZmYGb29vVFdX65S/gSAIreKxKcamti2dAlGrU1X8c0unQNQqmVg5NGv/39v8Q7K+Jpd81eRYDw8PuLu7IzExEQCgVqvRrVs3hISEIDIyskG8UqnEwoULERwcLLb5+flBoVAgOTkZVVVVaNu2Lb7//nuMHz9ejHFzc8O4ceOwfPlyCIIApVKJBQsW4M033wQAXL9+HdbW1ti4cSOmTp3a5Pw5UkFERKRFkPCoqanBjRs3NI6ampoGn1lbW4usrCx4eXmJbYaGhvDy8kJmZmajedbU1EAul2u0KRQK7N+/HwBQX18PlUp1z5iCggKUlJRofK6lpSU8PDzu+rl3w6KCiIhIi1rCIy4uDpaWlhpHXFxcg8+8fPkyVCoVrK2tNdqtra1RUlLSaJ7e3t6Ij4/H2bNnoVarkZ6ejq1bt+LSpUsAgLZt28LT0xPLli1DcXExVCoVkpOTkZmZKcbc7luXz70bFhVERETNKCoqCtevX9c4oqKiJOl7zZo16NWrF5ycnGBqaoq5c+ciMDAQhoZ3ft6TkpIgCAJsbW0hk8nw4YcfYtq0aRoxUmFRQUREpEVtYCDZIZPJYGFhoXHIZLIGn2llZQUjIyOUlpZqtJeWlsLGxqbRPDt16oRt27ahsrISFy5cwKlTp2Bubg4HhztrThwdHbFv3z5UVFTgjz/+wKFDh1BXVyfG3O5bl8+9GxYVREREWqRcU9FUpqamcHNzQ0ZGhtimVquRkZEBT0/Pe54rl8tha2uL+vp6pKSkYPLkyQ1izMzM0KVLF1y7dg1paWliTI8ePWBjY6PxuTdu3MDBgwf/9nO1cfMrIiKiViIsLAwBAQEYNGgQBg8ejNWrV6OyshKBgYEAgBkzZsDW1lZck3Hw4EEUFRXB1dUVRUVFWLJkCdRqNSIiIsQ+09LSIAgCevfujby8PISHh8PJyUns08DAAKGhoVi+fDl69eqFHj16ICYmBkqlElOmTNEpfxYVREREWlrq2R/+/v4oLy/HokWLUFJSAldXV6SmpoqLKAsLCzXWQlRXVyM6Ohr5+fkwNzeHj48PkpKS0K5dOzHm9hqOixcvokOHDvDz88OKFStgYmIixkRERKCyshKvvvoq/ve//2HYsGFITU1tcNfI3+E+FUStGPepIGpcc+9T8W/lS5L1Na14k2R9tXZcU0FERESS4PQHERGRFjUfKKYXFhVERERaWsW6gIcQpz+IiIhIEhypICIi0qLPI8uJRQUREVEDLXVL6cOORQUREZEWrqnQD9dUEBERkSQ4UkFERKSFayr0w6KCiIhIC9dU6IfTH0RERCQJjlQQERFp4UiFflhUEBERaRG4pkIvnP4gIiIiSXCkgoiISAunP/TDooKIiEgLiwr9cPqDiIiIJMGRCiIiIi3cpls/LCqIiIi0cEdN/bCoICIi0sI1FfrhmgoiIiKSBEcqiIiItHCkQj8sKoiIiLRwoaZ+OP1BREREkuBIBRERkRbe/aEfFhVERERauKZCP5z+ICIiIklwpIKIiEgLF2rqh0UFERGRFjXLCr1w+oOIiIgkwZEKIiIiLVyoqR+OVBAREWkRJDx0tXbtWtjb20Mul8PDwwOHDh26a2xdXR1iY2Ph6OgIuVwOFxcXpKamasSoVCrExMSgR48eUCgUcHR0xLJlyyAId7KrqKjA3Llz0bVrVygUCvTt2xfr1q3TOXeOVBAREWlpqZGKzZs3IywsDOvWrYOHhwdWr14Nb29vnD59Gp07d24QHx0djeTkZKxfvx5OTk5IS0uDr68vfvnlFzz55JMAgJUrV+Kjjz7CF198AWdnZ/z2228IDAyEpaUl5s2bBwAICwvD7t27kZycDHt7e+zatQuvv/46lEolJk2a1OT8DYS/liotyNjUtqVTIGp1qop/bukUiFolEyuHZu1/id1L0vV1YVOTYz08PODu7o7ExEQAgFqtRrdu3RASEoLIyMgG8UqlEgsXLkRwcLDY5ufnB4VCgeTkZADAhAkTYG1tjc8+++yuMf369YO/vz9iYmLEGDc3N4wbNw7Lly9vcv6c/iAiItKiNpDuqKmpwY0bNzSOmpqaBp9ZW1uLrKwseHl5iW2Ghobw8vJCZmZmo3nW1NRALpdrtCkUCuzfv198PXToUGRkZODMmTMAgKNHj2L//v0YN26cRsz27dtRVFQEQRCwZ88enDlzBmPGjNHpe2NRQUREpEUNQbIjLi4OlpaWGkdcXFyDz7x8+TJUKhWsra012q2trVFSUtJont7e3oiPj8fZs2ehVquRnp6OrVu34tKlS2JMZGQkpk6dCicnJ5iYmODJJ59EaGgoXnrpzmhMQkIC+vbti65du8LU1BRjx47F2rVrMWLECJ2+N66pICIiakZRUVEICwvTaJPJZJL0vWbNGrzyyitwcnKCgYEBHB0dERgYiA0bNogxW7ZswaZNm/DVV1/B2dkZOTk5CA0NhVKpREBAAIBbRcWvv/6K7du3w87ODj/99BOCg4OhVCo1Rk7+DosKIiIiLVIuNpTJZE0qIqysrGBkZITS0lKN9tLSUtjY2DR6TqdOnbBt2zZUV1fjypUrUCqViIyMhIPDnTUn4eHh4mgFAPTv3x8XLlxAXFwcAgICUFVVhbfffhvfffcdxo8fDwAYMGAAcnJy8P777+tUVHD6g4iISItawqOpTE1N4ebmhoyMjDt5qNXIyMiAp6fnPc+Vy+WwtbVFfX09UlJSMHnyZPG9mzdvwtBQ8+feyMgIavWt7Orq6lBXV3fPmKbiSAUREVErERYWhoCAAAwaNAiDBw/G6tWrUVlZicDAQADAjBkzYGtrK67JOHjwIIqKiuDq6oqioiIsWbIEarUaERERYp8TJ07EihUr0L17dzg7O+PIkSOIj4/HzJkzAQAWFhYYOXIkwsPDoVAoYGdnh3379uHLL79EfHy8TvmzqCAiItLSUs/+8Pf3R3l5ORYtWoSSkhK4uroiNTVVXLxZWFioMaJQXV2N6Oho5Ofnw9zcHD4+PkhKSkK7du3EmISEBMTExOD1119HWVkZlEol5syZg0WLFokxX3/9NaKiovDSSy/h6tWrsLOzw4oVKxAUFKRT/nrtU7Fnzx6MGjVK19PuiftUEDXEfSqIGtfc+1RE2E+TrK9V5/8tWV+tnV5rKsaOHQtHR0csX74cf/zxh9Q5ERER0UNIr6KiqKgIc+fOxbfffgsHBwd4e3tjy5YtqK2tlTo/IiKiB64lFmo+CvQqKqysrDB//nzk5OTg4MGDeOKJJ8Q9wufNm4ejR49KnScREdEDI+XmV4+T+76ldODAgYiKisLcuXNRUVGBDRs2wM3NDcOHD8eJEyekyJGIiOiBasmnlD7M9C4q6urq8O2338LHxwd2dnZIS0tDYmIiSktLkZeXBzs7O7zwwgtS5kpEREStmF63lIaEhODf//43BEHA9OnTsWrVKvTr109838zMDO+//z6USqVkiRIRET0oj9taCKnoVVTk5uYiISEBzz333F23HrWyssKePXvuKzkiIqKWIDx2ExfS0Hn6o66uDnZ2dhgyZMg99zI3NjbGyJEj7ys5IiIienjoXFSYmJggJSWlOXIhIiJqFXhLqX70Wqg5ZcoUbNu2TeJUiIiIWgfeUqofvdZU9OrVC7GxsThw4ADc3NxgZmam8f68efMkSY6IiIgeHno9+6NHjx5379DAAPn5+Tonwmd/EDXEZ38QNa65n/3xmv2LkvX10fktkvXV2uk1UlFQUCB1HkRERK3G4zZtIZX73lGTWrfXggKQd+ZXVNw4h1/274D7INe7xhobGyN6YShOnzyAihvnkPVbOrzHPK0RY2hoiKVLwnH2dCb+vJ6H0ycPYOHboc16DUQt5bec4wiOWIxRk15Cv6fGIeOnX1o6JaJWTa+RCgC4ePEitm/fjsLCwgYPEouPj7/vxOj+vfDCJLz/3mK8HhyJQ4ePYF7IbPx35yb07TcC5eVXGsQvi43AP6Y9h6DXInDqdB7GPPs0vv3mUwwfORk5Obe2XI8ID8acV2dg5qxQnMg9DTc3F3y2Ph7Xr99A4toND/oSiZpVVVU1evd0gO/4MQh9e3lLp0MP0ON214ZU9CoqMjIyMGnSJDg4OODUqVPo168fzp8/D0EQMHDgQKlzJD3Nf+MVfPrZV/jiy1vzea8HR8Jn3GgEvjwVq95b2yD+pX/4Ie7dD/FD6m4AwMeffInRo4dhfugcBLx8a/Gt55BB2L4jDf/9IQMAcOHCRUz1nwx3d9cHc1FED9BwT3cM93Rv6TSoBXDzK/3oNf0RFRWFN998E8ePH4dcLkdKSgr++OMPjBw5ks/7aCVMTEwwcOAAZOy+s9BPEARk7N6PIUPcGj1HJpOhurpGo62qqhpPDR0svs789Tc8M2oYevW6tUhqwIC+eGroYKSmcfdUInp0cJ8K/eg1UnHy5En8+9//vtWBsTGqqqpgbm6O2NhYTJ48Ga+99to9z6+pqUFNjeaPlyAIMDAw0CcdaoSVVQcYGxujrPSyRntZWTmcejs2es6u9L0IDX0VP+8/iHPnzmP0M8PgO8UHRkZ3as+VqxJhYWGOE8f3QaVSwcjICDGLVuLf//6uWa+HiIhaP71GKszMzMR1FF26dMG5c+fE9y5fvny300RxcXGwtLTUOAT1n/qkQhKaH7YIeXkFOHF8H6oqz2PNmhXY+MVmqNV3au0XXpiIaVOfw//NCIa7x1gEzgpF2PwgTJ/OESoienQIEv7ncaLXSMWQIUOwf/9+9OnTBz4+PliwYAGOHz+OrVu3YsiQIX97flRUFMLCwjTa2nd00icVuovLl6+ivr4ena2tNNo7d+6EktLyu57j9/wsyGQydOzYHsXFJYh7523kFxSKMSvjYrDqvURs2bIdAPD776dg170r3oqYi6Skb5rvgoiIHqDHbdpCKnqNVMTHx8PDwwMAsHTpUowePRqbN2+Gvb09Pvvss789XyaTwcLCQuPg1Ie06urqkJ19DM+MGia2GRgY4JlRw/Drr1n3PLempgbFxSUwNjaG7xQf7NixS3yvTRsF1GrNylulUsHQkHcnExE97vQaqXBwuLOTmZmZGdatWydZQiSdD9asx+effYCs7GM4fPgI5oW8AjMzBTZ+sRkA8PmGNSguvoSF0e8CAAa7PwmlrQ2OHj0BW6UNFsUsgKGhId57/19in//ZmY6oyHn4448inMg9DVfXfgh941Vs/OLrFrlGouZ082YVCi8Wi6+Liktx6sw5WFq0RRebzi2YGTU3te6bTRPuY58Kav2++WY7Oll1wJJFb8LGphOOHj2B8RP+D2Vlt9a9dO+m1FgvIZfLELs0Ag49uqOi4iZ+SN2NgMB5uH79hhjzRmg0li6JQMKH76Bz544oLi7F+k+TsWz5Bw/8+oia2++nzmJmyFvi61UJnwAAJo/zworoBS2VFj0ALCn00+Rnf7Rv377JUxRXr17VORE++4OoIT77g6hxzf3sj/+ze06yvpIvbJWsr9auySMVq1evbsY0iIiIWg8++0M/TS4qAgICmjMPIiKiVuNxuxVUKve9pqK6urrBsz8sLCzut1siIiJ6yOh1H2BlZSXmzp2Lzp07w8zMDO3bt9c4iIiIHmbcpls/ehUVERER2L17Nz766CPIZDJ8+umnWLp0KZRKJb788kupcyQiInqg1BAkOx4nek1/7NixA19++SWefvppBAYGYvjw4ejZsyfs7OywadMmvPTSS1LnSURE9MBwTYV+9BqpuHr1qrgBloWFhXgL6bBhw/DTTz9Jlx0RERE9NPQqKhwcHFBQUAAAcHJywpYtWwDcGsFo166dZMkRERG1hJZcU7F27VrY29tDLpfDw8MDhw4dumtsXV0dYmNj4ejoCLlcDhcXF6SmpmrEqFQqxMTEoEePHlAoFHB0dMSyZcugvU3VyZMnMWnSJFhaWsLMzAzu7u4oLCyELvQqKgIDA3H06FEAQGRkJNauXQu5XI758+cjPDxcny6JiIhaDUEQJDt0sXnzZoSFhWHx4sXIzs6Gi4sLvL29UVZW1mh8dHQ0Pv74YyQkJCA3NxdBQUHw9fXFkSNHxJiVK1fio48+QmJiIk6ePImVK1di1apVSEhIEGPOnTuHYcOGwcnJCXv37sWxY8cQExMDuVyuU/5N3lHzXi5cuICsrCz07NkTAwYM0KsP7qhJ1BB31CRqXHPvqOnbfaJkfX1XuKPJsR4eHnB3d0diYiIAQK1Wo1u3bggJCUFkZGSDeKVSiYULFyI4OFhs8/Pzg0KhQHJyMgBgwoQJsLa21njgp3bM1KlTYWJigqSkJL2u8TadRioyMzPxn//8R6Pt9oLNoKAgJCYmoqam5r4SIiIiamlS3v1RU1ODGzduaByN/VbW1tYiKysLXl5eYpuhoSG8vLyQmZnZaJ41NTUNRhMUCgX2798vvh46dCgyMjJw5swZAMDRo0exf/9+jBs37ta1qtXYuXMnnnjiCXh7e6Nz587w8PDAtm3bdP7edCoqYmNjceLECfH18ePHMWvWLHh5eSEqKgo7duxAXFyczkkQERG1JlKuqYiLi4OlpaXG0dhv5eXLl6FSqWBtba3Rbm1tjZKSkkbz9Pb2Rnx8PM6ePQu1Wo309HRs3boVly5dEmMiIyMxdepUODk5wcTEBE8++SRCQ0PFOzXLyspQUVGBd999F2PHjsWuXbvg6+uL5557Dvv27dPpe9PpltKcnBwsW7ZMfP3111/Dw8MD69evBwB07doVixcvxpIlS3RKgoiI6FEVFRWFsLAwjTaZTCZJ32vWrMErr7wCJycnGBgYwNHREYGBgdiwYYMYs2XLFmzatAlfffUVnJ2dkZOTg9DQUCiVSgQEBIhPq548eTLmz58PAHB1dcUvv/yCdevWYeTIkU3OR6ei4tq1axoV1L59+8ThEwBwd3fHH3/8oUuXRERErY6U+1TIZLImFRFWVlYwMjJCaWmpRntpaSlsbGwaPadTp07Ytm0bqqurceXKFSiVSkRGRorbPgBAeHi4OFoBAP3798eFCxcQFxeHgIAAWFlZwdjYGH379tXou0+fPhrTKE2h0/SHtbW1eCtpbW0tsrOzMWTIEPH9P//8EyYmJjolQERE1Nq0xI6apqamcHNzQ0ZGxp081GpkZGTA09PznufK5XLY2tqivr4eKSkpmDx5svjezZs3YWio+XNvZGQkjlCYmprC3d0dp0+f1og5c+YM7Ozsmpw/oONIhY+PDyIjI7Fy5Ups27YNbdq0wfDhw8X3jx07BkdHR50SICIiolvCwsIQEBCAQYMGYfDgwVi9ejUqKysRGBgIAJgxYwZsbW3FNRkHDx5EUVERXF1dUVRUhCVLlkCtViMiIkLsc+LEiVixYgW6d+8OZ2dnHDlyBPHx8Zg5c6YYEx4eDn9/f4wYMQKjRo1CamoqduzYgb179+qUv05FxbJly/Dcc89h5MiRMDc3xxdffAFTU1Px/Q0bNmDMmDE6JUBERNTaSLDbgl78/f1RXl6ORYsWoaSkBK6urkhNTRWXHhQWFmqMOlRXVyM6Ohr5+fkwNzeHj48PkpKSNDaiTEhIQExMDF5//XWUlZVBqVRizpw5WLRokRjj6+uLdevWIS4uDvPmzUPv3r2RkpKCYcOG6ZS/XvtUXL9+Hebm5jAyMtJov3r1KszNzTUKjabiPhVEDXGfCqLGNfc+Fd7dxv19UBOl/fGDZH21dno9UMzS0rLR9g4dOtxXMkRERK0BHyimH7226SYiIiLSptdIBRER0aNMl7s26A4WFURERFpaaqHmw47TH0RERCQJjlQQERFp4fSHflhUEBERaeHdH/rh9AcRERFJgiMVREREWtRcqKkXFhVERERaWFLoh9MfREREJAmOVBAREWnh3R/6YVFBRESkhUWFflhUEBERaeGOmvrhmgoiIiKSBEcqiIiItHD6Qz8sKoiIiLRwR039cPqDiIiIJMGRCiIiIi1cqKkfFhVERERauKZCP5z+ICIiIklwpIKIiEgLpz/0w6KCiIhIC6c/9MPpDyIiIpIERyqIiIi0cJ8K/bCoICIi0qLmmgq9sKggIiLSwpEK/XBNBREREUmCIxVERERaOP2hHxYVREREWjj9oR9OfxAREZEkOFJBRESkhdMf+uFIBRERkRZBwv/oau3atbC3t4dcLoeHhwcOHTp019i6ujrExsbC0dERcrkcLi4uSE1N1YhRqVSIiYlBjx49oFAo4OjoiGXLlt11K/KgoCAYGBhg9erVOufOooKIiKiV2Lx5M8LCwrB48WJkZ2fDxcUF3t7eKCsrazQ+OjoaH3/8MRISEpCbm4ugoCD4+vriyJEjYszKlSvx0UcfITExESdPnsTKlSuxatUqJCQkNOjvu+++w6+//gqlUqlX/gZCK3lqirGpbUunQNTqVBX/3NIpELVKJlYOzdq/o9VAyfrKLcpETU2NRptMJoNMJmsQ6+HhAXd3dyQmJgIA1Go1unXrhpCQEERGRjaIVyqVWLhwIYKDg8U2Pz8/KBQKJCcnAwAmTJgAa2trfPbZZ3eNAYCioiJ4eHggLS0N48ePR2hoKEJDQ3W6Vo5UEBERaZFy+iMuLg6WlpYaR1xcXIPPrK2tRVZWFry8vMQ2Q0NDeHl5ITMzs9E8a2pqIJfLNdoUCgX2798vvh46dCgyMjJw5swZAMDRo0exf/9+jBs3ToxRq9WYPn06wsPD4ezsrPf3xoWaREREzSgqKgphYWEabY2NUly+fBkqlQrW1tYa7dbW1jh16lSjfXt7eyM+Ph4jRoyAo6MjMjIysHXrVqhUKjEmMjISN27cgJOTE4yMjKBSqbBixQq89NJLYszKlSthbGyMefPm3c+lsqggIiLSJghqyfq621SHFNasWYNXXnkFTk5OMDAwgKOjIwIDA7FhwwYxZsuWLdi0aRO++uorODs7IycnB6GhoVAqlQgICEBWVhbWrFmD7OxsGBgY3Fc+nP4gIiLSooYg2dFUVlZWMDIyQmlpqUZ7aWkpbGxsGj2nU6dO2LZtGyorK3HhwgWcOnUK5ubmcHC4s+YkPDwckZGRmDp1Kvr374/p06dj/vz54hTMzz//jLKyMnTv3h3GxsYwNjbGhQsXsGDBAtjb2+v0vbGoICIi0iIIgmRHU5mamsLNzQ0ZGRlim1qtRkZGBjw9Pe95rlwuh62tLerr65GSkoLJkyeL7928eROGhpo/90ZGRlCrb43GTJ8+HceOHUNOTo54KJVKhIeHIy0trcn5A5z+ICIiajXCwsIQEBCAQYMGYfDgwVi9ejUqKysRGBgIAJgxYwZsbW3FUYaDBw+iqKgIrq6uKCoqwpIlS6BWqxERESH2OXHiRKxYsQLdu3eHs7Mzjhw5gvj4eMycORMA0LFjR3Ts2FEjDxMTE9jY2KB379465c+igoiISIsu0xZS8vf3R3l5ORYtWoSSkhK4uroiNTVVXLxZWFioMepQXV2N6Oho5Ofnw9zcHD4+PkhKSkK7du3EmISEBMTExOD1119HWVkZlEol5syZg0WLFkmeP/epIGrFuE8FUeOae58K2/b631aprejaCcn6au24poKIiIgkwekPIiIiLXygmH5YVBAREWnR50FgxOkPIiIikghHKoiIiLS0knsYHjosKoiIiLS01C2lDztOfxAREZEkOFJBRESkhdMf+mFRQUREpIW3lOqHRQUREZEWjlToh2sqiIiISBIcqSAiItLCuz/0w6KCiIhIC6c/9MPpDyIiIpIERyqIiIi08O4P/bCoICIi0sIHiumH0x9EREQkCY5UEBERaeH0h35YVBAREWnh3R/64fQHERERSYIjFURERFq4UFM/LCqIiIi0cPpDPywqiIiItLCo0A/XVBAREZEkOFJBRESkheMU+jEQOMZDf1FTU4O4uDhERUVBJpO1dDpErQL/LoiahkUFabhx4wYsLS1x/fp1WFhYtHQ6RK0C/y6ImoZrKoiIiEgSLCqIiIhIEiwqiIiISBIsKkiDTCbD4sWLuRiN6C/4d0HUNFyoSURERJLgSAURERFJgkUFERERSYJFBREREUmCRQURERFJgkUFNbvz58/DwMAAOTk5LZ0KUZNt3LgR7dq1a+k0iB4qLCp0JAgCvLy84O3t3eC9f/3rX2jXrh0uXrz4QHO6/aPd2PHrr78+0Fwa061bN1y6dAn9+vVr6VToMVJeXo7XXnsN3bt3h0wmg42NDby9vXHgwIGWTo3okcWnlOrIwMAAn3/+Ofr374+PP/4Yc+bMAQAUFBQgIiICH330Ebp27SrpZ9bV1cHExORv43788Uc4OztrtHXs2FHSXHRVW1sLU1NT2NjYtGge9Pjx8/NDbW0tvvjiCzg4OKC0tBQZGRm4cuXKA8vh9r//RI8NgfSyceNGwdzcXMjPzxfUarUwatQowdfXVzh+/LgwduxYwczMTOjcubPwf//3f0J5ebl43g8//CA89dRTgqWlpdChQwdh/PjxQl5envh+QUGBAED4+uuvhREjRggymUz4/PPPhfPnzwsTJkwQ2rVrJ7Rp00bo27evsHPnTo1zjhw50miuarVaGD16tDBmzBhBrVYLgiAIV65cEWxtbYWYmBhBEARhz549AgDhP//5j9C/f39BJpMJHh4ewvHjxzX6+vnnn4Vhw4YJcrlc6Nq1qxASEiJUVFSI79vZ2QmxsbHC9OnThbZt2woBAQGN5vd339PIkSOFkJAQITw8XGjfvr1gbW0tLF68WCOXa9euCa+++qrQuXNnQSaTCc7OzsKOHTuanCs9uq5duyYAEPbu3XvXmH/+859Cv379hDZt2ghdu3YVXnvtNeHPP/8U3//8888FS0tL8XVeXp4wadIkoXPnzoKZmZkwaNAgIT09XaPPxv79HzVqlBAcHKwRV1ZWJpiYmAg//vijNBdM1EqwqLgPkydPFp5++mnhww8/FDp16iSUlZUJnTp1EqKiooSTJ08K2dnZwrPPPiuMGjVKPOfbb78VUlJShLNnzwpHjhwRJk6cKPTv319QqVSCINwpEOzt7YWUlBQhPz9fKC4uFsaPHy88++yzwrFjx4Rz584JO3bsEPbt26dxzt2KCkEQhIsXLwrt27cXVq9eLQiCILzwwgvC4MGDhbq6OkEQ7hQVffr0EXbt2iUcO3ZMmDBhgmBvby/U1tYKgnDrf1TNzMyEDz74QDhz5oxw4MAB4cknnxRefvll8XPs7OwECwsL4f333xfy8vKEvLy8Bvldu3btb7+nkSNHChYWFsKSJUuEM2fOCF988YVgYGAg7Nq1SxAEQVCpVMKQIUMEZ2dnYdeuXeJ38t///rfJudKjq66uTjA3NxdCQ0OF6urqRmM++OADYffu3UJBQYGQkZEh9O7dW3jttdfE97WLipycHGHdunXC8ePHhTNnzgjR0dGCXC4XLly4IMY09u//pk2bhPbt22vkER8fL9jb24tFPtGjgkXFfSgtLRWsrKwEQ0ND4bvvvhOWLVsmjBkzRiPmjz/+EAAIp0+fbrSP8vJyAYA4InD7B/j2j/9t/fv3F5YsWdJoH7fPUSgUgpmZmcbxV1u2bBHkcrkQGRkpmJmZCWfOnBHfu11UfP3112LblStXBIVCIWzevFkQBEGYNWuW8Oqrr2r0+fPPPwuGhoZCVVWVIAi3/kd1ypQpjeZ3u6hoyvc0cuRIYdiwYRox7u7uwltvvSUIgiCkpaUJhoaGd/1em5IrPdq+/fZboX379oJcLheGDh0qREVFCUePHr1r/DfffCN07NhRfK1dVDTG2dlZSEhIEF839u9/VVWV0L59e/HvSBAEYcCAAXf9eyZ6mHGh5n3o3Lkz5syZgz59+mDKlCk4evQo9uzZA3Nzc/FwcnICAJw7dw4AcPbsWUybNg0ODg6wsLCAvb09AKCwsFCj70GDBmm8njdvHpYvX46nnnoKixcvxrFjxxrks3nzZuTk5Ggcf/XCCy/A19cX7777Lt5//3306tWrQR+enp7iP3fo0AG9e/fGyZMnAQBHjx7Fxo0bNa7P29sbarUaBQUFd81dW1O+JwAYMGCAxnldunRBWVkZACAnJwddu3bFE088cdfPaEqu9Ojy8/NDcXExtm/fjrFjx2Lv3r0YOHAgNm7cCODWGqTRo0fD1tYWbdu2xfTp03HlyhXcvHmz0f4qKirw5ptvok+fPmjXrh3Mzc1x8uTJv/3blcvlmD59OjZs2AAAyM7Oxu+//46XX35Z8msmamlcqHmfjI2NYWx862usqKjAxIkTsXLlygZxXbp0AQBMnDgRdnZ2WL9+PZRKJdRqNfr164fa2lqNeDMzM43Xs2fPhre3N3bu3Ildu3YhLi4O//znPxESEiLGdOvWDT179rxrrjdv3kRWVhaMjIxw9uxZna+1oqICc+bMwbx58xq8171797vm3lg/f/c9AWiwONXAwABqtRoAoFAoJMmVHm1yuRzPPvssnn32WcTExGD27NlYvHgxnn76aUyYMAGvvfYaVqxYgQ4dOmD//v2YNWsWamtr0aZNmwZ9vfnmm0hPT8f777+Pnj17QqFQ4Pnnn//bv13g1t+vq6srLl68iM8//xzPPPMM7Ozsmu26iVoKiwoJDRw4ECkpKbC3txcLjb+6cuUKTp8+jfXr12P48OEAgP379ze5/27duiEoKAhBQUGIiorC+vXrNYqKv7NgwQIYGhrihx9+gI+PD8aPH49nnnlGI+bXX38Vf3SvXbuGM2fOoE+fPuL15ebm3rNwaYq/+56aYsCAAbh48SLOnDnT6GiFVLnSo6Vv377Ytm0bsrKyoFar8c9//hOGhrcGbLds2XLPcw8cOICXX34Zvr6+AG4VrufPn2/S5/bv3x+DBg3C+vXr8dVXXyExMfG+roOoteL0h4SCg4Nx9epVTJs2DYcPH8a5c+eQlpaGwMBAqFQqtG/fHh07dsQnn3yCvLw87N69G2FhYU3qOzQ0FGlpaSgoKEB2djb27Nkj/tjfduXKFZSUlGgc1dXVAICdO3diw4YN2LRpE5599lmEh4cjICAA165d0+gjNjYWGRkZ4vCslZUVpkyZAgB466238Msvv2Du3LnIycnB2bNn8f3332Pu3LmSfk9NMXLkSIwYMQJ+fn5IT09HQUEBfvjhB6SmpkqaKz2crly5gmeeeQbJyck4duwYCgoK8M0332DVqlWYPHkyevbsibq6OiQkJCA/Px9JSUlYt27dPfvs1asXtm7dipycHBw9ehT/+Mc/xJGzppg9ezbeffddCIIgFiZEjxoWFRJSKpU4cOAAVCoVxowZg/79+yM0NBTt2rWDoaEhDA0N8fXXXyMrKwv9+vXD/Pnz8d577zWpb5VKheDgYPTp0wdjx47FE088gX/9618aMV5eXujSpYvGsW3bNpSXl2PWrFlYsmQJBg4cCABYunQprK2tERQUpNHHu+++izfeeANubm4oKSnBjh07xPvsBwwYgH379uHMmTMYPnw4nnzySSxatAhKpVLS76mpUlJS4O7ujmnTpqFv376IiIgQixKpcqWHk7m5OTw8PPDBBx9gxIgR6NevH2JiYvDKK68gMTERLi4uiI+Px8qVK9GvXz9s2rQJcXFx9+wzPj4e7du3x9ChQzFx4kR4e3uLf09NMW3aNBgbG2PatGmQy+X3e4lErZKBIAhCSydBLW/v3r0YNWoUrl27xq2JiZrB+fPn4ejoiMOHD+tUjBA9TLimgoioGdXV1eHKlSuIjo7GkCFDWFDQI43TH0REzejAgQPo0qULDh8+/LfrNogedpz+ICIiIklwpIKIiIgkwaKCiIiIJMGigoiIiCTBooKIiIgkwaKCiIiIJMGigoiIiCTBooKIiIgkwaKCiIiIJPH/APvK7wIATv79AAAAAElFTkSuQmCC",
      "text/plain": [
       "<Figure size 640x480 with 2 Axes>"
      ]
     },
     "metadata": {},
     "output_type": "display_data"
    }
   ],
   "source": [
    "corr_matrix = salary_df.corr()\n",
    "sns.heatmap(corr_matrix, annot = True)\n",
    "plt.show()"
   ]
  },
  {
   "cell_type": "markdown",
   "metadata": {},
   "source": [
    "MINI CHALLENGE\n",
    "- Use regplot in Seaborn to obtain a straight line fit between \"salary\" and \"years of experience\""
   ]
  },
  {
   "cell_type": "code",
   "execution_count": null,
   "metadata": {},
   "outputs": [],
   "source": []
  },
  {
   "cell_type": "markdown",
   "metadata": {
    "colab_type": "text",
    "id": "53qDZFRn3-S1"
   },
   "source": [
    "# TASK #4: CREATE TRAINING AND TESTING DATASET"
   ]
  },
  {
   "cell_type": "code",
   "execution_count": 12,
   "metadata": {
    "colab": {},
    "colab_type": "code",
    "id": "4OXZB2F21e4H"
   },
   "outputs": [],
   "source": [
    "X = salary_df[['YearsExperience']]\n",
    "y = salary_df[['Salary']]\n"
   ]
  },
  {
   "cell_type": "code",
   "execution_count": 13,
   "metadata": {
    "scrolled": true
   },
   "outputs": [
    {
     "data": {
      "text/html": [
       "<div>\n",
       "<style scoped>\n",
       "    .dataframe tbody tr th:only-of-type {\n",
       "        vertical-align: middle;\n",
       "    }\n",
       "\n",
       "    .dataframe tbody tr th {\n",
       "        vertical-align: top;\n",
       "    }\n",
       "\n",
       "    .dataframe thead th {\n",
       "        text-align: right;\n",
       "    }\n",
       "</style>\n",
       "<table border=\"1\" class=\"dataframe\">\n",
       "  <thead>\n",
       "    <tr style=\"text-align: right;\">\n",
       "      <th></th>\n",
       "      <th>YearsExperience</th>\n",
       "    </tr>\n",
       "  </thead>\n",
       "  <tbody>\n",
       "    <tr>\n",
       "      <th>0</th>\n",
       "      <td>1.1</td>\n",
       "    </tr>\n",
       "    <tr>\n",
       "      <th>1</th>\n",
       "      <td>1.3</td>\n",
       "    </tr>\n",
       "    <tr>\n",
       "      <th>2</th>\n",
       "      <td>1.5</td>\n",
       "    </tr>\n",
       "    <tr>\n",
       "      <th>3</th>\n",
       "      <td>2.0</td>\n",
       "    </tr>\n",
       "    <tr>\n",
       "      <th>4</th>\n",
       "      <td>2.2</td>\n",
       "    </tr>\n",
       "    <tr>\n",
       "      <th>5</th>\n",
       "      <td>2.9</td>\n",
       "    </tr>\n",
       "    <tr>\n",
       "      <th>6</th>\n",
       "      <td>3.0</td>\n",
       "    </tr>\n",
       "    <tr>\n",
       "      <th>7</th>\n",
       "      <td>3.2</td>\n",
       "    </tr>\n",
       "    <tr>\n",
       "      <th>8</th>\n",
       "      <td>3.2</td>\n",
       "    </tr>\n",
       "    <tr>\n",
       "      <th>9</th>\n",
       "      <td>3.7</td>\n",
       "    </tr>\n",
       "    <tr>\n",
       "      <th>10</th>\n",
       "      <td>3.9</td>\n",
       "    </tr>\n",
       "    <tr>\n",
       "      <th>11</th>\n",
       "      <td>4.0</td>\n",
       "    </tr>\n",
       "    <tr>\n",
       "      <th>12</th>\n",
       "      <td>4.0</td>\n",
       "    </tr>\n",
       "    <tr>\n",
       "      <th>13</th>\n",
       "      <td>4.1</td>\n",
       "    </tr>\n",
       "    <tr>\n",
       "      <th>14</th>\n",
       "      <td>4.5</td>\n",
       "    </tr>\n",
       "    <tr>\n",
       "      <th>15</th>\n",
       "      <td>4.9</td>\n",
       "    </tr>\n",
       "    <tr>\n",
       "      <th>16</th>\n",
       "      <td>5.1</td>\n",
       "    </tr>\n",
       "    <tr>\n",
       "      <th>17</th>\n",
       "      <td>5.3</td>\n",
       "    </tr>\n",
       "    <tr>\n",
       "      <th>18</th>\n",
       "      <td>5.9</td>\n",
       "    </tr>\n",
       "    <tr>\n",
       "      <th>19</th>\n",
       "      <td>6.0</td>\n",
       "    </tr>\n",
       "    <tr>\n",
       "      <th>20</th>\n",
       "      <td>6.8</td>\n",
       "    </tr>\n",
       "    <tr>\n",
       "      <th>21</th>\n",
       "      <td>7.1</td>\n",
       "    </tr>\n",
       "    <tr>\n",
       "      <th>22</th>\n",
       "      <td>7.9</td>\n",
       "    </tr>\n",
       "    <tr>\n",
       "      <th>23</th>\n",
       "      <td>8.2</td>\n",
       "    </tr>\n",
       "    <tr>\n",
       "      <th>24</th>\n",
       "      <td>8.7</td>\n",
       "    </tr>\n",
       "    <tr>\n",
       "      <th>25</th>\n",
       "      <td>9.0</td>\n",
       "    </tr>\n",
       "    <tr>\n",
       "      <th>26</th>\n",
       "      <td>9.5</td>\n",
       "    </tr>\n",
       "    <tr>\n",
       "      <th>27</th>\n",
       "      <td>9.6</td>\n",
       "    </tr>\n",
       "    <tr>\n",
       "      <th>28</th>\n",
       "      <td>10.3</td>\n",
       "    </tr>\n",
       "    <tr>\n",
       "      <th>29</th>\n",
       "      <td>10.5</td>\n",
       "    </tr>\n",
       "    <tr>\n",
       "      <th>30</th>\n",
       "      <td>11.2</td>\n",
       "    </tr>\n",
       "    <tr>\n",
       "      <th>31</th>\n",
       "      <td>11.5</td>\n",
       "    </tr>\n",
       "    <tr>\n",
       "      <th>32</th>\n",
       "      <td>12.3</td>\n",
       "    </tr>\n",
       "    <tr>\n",
       "      <th>33</th>\n",
       "      <td>12.9</td>\n",
       "    </tr>\n",
       "    <tr>\n",
       "      <th>34</th>\n",
       "      <td>13.5</td>\n",
       "    </tr>\n",
       "  </tbody>\n",
       "</table>\n",
       "</div>"
      ],
      "text/plain": [
       "    YearsExperience\n",
       "0               1.1\n",
       "1               1.3\n",
       "2               1.5\n",
       "3               2.0\n",
       "4               2.2\n",
       "5               2.9\n",
       "6               3.0\n",
       "7               3.2\n",
       "8               3.2\n",
       "9               3.7\n",
       "10              3.9\n",
       "11              4.0\n",
       "12              4.0\n",
       "13              4.1\n",
       "14              4.5\n",
       "15              4.9\n",
       "16              5.1\n",
       "17              5.3\n",
       "18              5.9\n",
       "19              6.0\n",
       "20              6.8\n",
       "21              7.1\n",
       "22              7.9\n",
       "23              8.2\n",
       "24              8.7\n",
       "25              9.0\n",
       "26              9.5\n",
       "27              9.6\n",
       "28             10.3\n",
       "29             10.5\n",
       "30             11.2\n",
       "31             11.5\n",
       "32             12.3\n",
       "33             12.9\n",
       "34             13.5"
      ]
     },
     "execution_count": 13,
     "metadata": {},
     "output_type": "execute_result"
    }
   ],
   "source": [
    "X"
   ]
  },
  {
   "cell_type": "code",
   "execution_count": 14,
   "metadata": {},
   "outputs": [
    {
     "data": {
      "text/html": [
       "<div>\n",
       "<style scoped>\n",
       "    .dataframe tbody tr th:only-of-type {\n",
       "        vertical-align: middle;\n",
       "    }\n",
       "\n",
       "    .dataframe tbody tr th {\n",
       "        vertical-align: top;\n",
       "    }\n",
       "\n",
       "    .dataframe thead th {\n",
       "        text-align: right;\n",
       "    }\n",
       "</style>\n",
       "<table border=\"1\" class=\"dataframe\">\n",
       "  <thead>\n",
       "    <tr style=\"text-align: right;\">\n",
       "      <th></th>\n",
       "      <th>Salary</th>\n",
       "    </tr>\n",
       "  </thead>\n",
       "  <tbody>\n",
       "    <tr>\n",
       "      <th>0</th>\n",
       "      <td>39343</td>\n",
       "    </tr>\n",
       "    <tr>\n",
       "      <th>1</th>\n",
       "      <td>46205</td>\n",
       "    </tr>\n",
       "    <tr>\n",
       "      <th>2</th>\n",
       "      <td>37731</td>\n",
       "    </tr>\n",
       "    <tr>\n",
       "      <th>3</th>\n",
       "      <td>43525</td>\n",
       "    </tr>\n",
       "    <tr>\n",
       "      <th>4</th>\n",
       "      <td>39891</td>\n",
       "    </tr>\n",
       "    <tr>\n",
       "      <th>5</th>\n",
       "      <td>56642</td>\n",
       "    </tr>\n",
       "    <tr>\n",
       "      <th>6</th>\n",
       "      <td>60150</td>\n",
       "    </tr>\n",
       "    <tr>\n",
       "      <th>7</th>\n",
       "      <td>54445</td>\n",
       "    </tr>\n",
       "    <tr>\n",
       "      <th>8</th>\n",
       "      <td>64445</td>\n",
       "    </tr>\n",
       "    <tr>\n",
       "      <th>9</th>\n",
       "      <td>57189</td>\n",
       "    </tr>\n",
       "    <tr>\n",
       "      <th>10</th>\n",
       "      <td>63218</td>\n",
       "    </tr>\n",
       "    <tr>\n",
       "      <th>11</th>\n",
       "      <td>55794</td>\n",
       "    </tr>\n",
       "    <tr>\n",
       "      <th>12</th>\n",
       "      <td>56957</td>\n",
       "    </tr>\n",
       "    <tr>\n",
       "      <th>13</th>\n",
       "      <td>57081</td>\n",
       "    </tr>\n",
       "    <tr>\n",
       "      <th>14</th>\n",
       "      <td>61111</td>\n",
       "    </tr>\n",
       "    <tr>\n",
       "      <th>15</th>\n",
       "      <td>67938</td>\n",
       "    </tr>\n",
       "    <tr>\n",
       "      <th>16</th>\n",
       "      <td>66029</td>\n",
       "    </tr>\n",
       "    <tr>\n",
       "      <th>17</th>\n",
       "      <td>83088</td>\n",
       "    </tr>\n",
       "    <tr>\n",
       "      <th>18</th>\n",
       "      <td>81363</td>\n",
       "    </tr>\n",
       "    <tr>\n",
       "      <th>19</th>\n",
       "      <td>93940</td>\n",
       "    </tr>\n",
       "    <tr>\n",
       "      <th>20</th>\n",
       "      <td>91738</td>\n",
       "    </tr>\n",
       "    <tr>\n",
       "      <th>21</th>\n",
       "      <td>98273</td>\n",
       "    </tr>\n",
       "    <tr>\n",
       "      <th>22</th>\n",
       "      <td>101302</td>\n",
       "    </tr>\n",
       "    <tr>\n",
       "      <th>23</th>\n",
       "      <td>113812</td>\n",
       "    </tr>\n",
       "    <tr>\n",
       "      <th>24</th>\n",
       "      <td>109431</td>\n",
       "    </tr>\n",
       "    <tr>\n",
       "      <th>25</th>\n",
       "      <td>105582</td>\n",
       "    </tr>\n",
       "    <tr>\n",
       "      <th>26</th>\n",
       "      <td>116969</td>\n",
       "    </tr>\n",
       "    <tr>\n",
       "      <th>27</th>\n",
       "      <td>112635</td>\n",
       "    </tr>\n",
       "    <tr>\n",
       "      <th>28</th>\n",
       "      <td>122391</td>\n",
       "    </tr>\n",
       "    <tr>\n",
       "      <th>29</th>\n",
       "      <td>121872</td>\n",
       "    </tr>\n",
       "    <tr>\n",
       "      <th>30</th>\n",
       "      <td>127345</td>\n",
       "    </tr>\n",
       "    <tr>\n",
       "      <th>31</th>\n",
       "      <td>126756</td>\n",
       "    </tr>\n",
       "    <tr>\n",
       "      <th>32</th>\n",
       "      <td>128765</td>\n",
       "    </tr>\n",
       "    <tr>\n",
       "      <th>33</th>\n",
       "      <td>135675</td>\n",
       "    </tr>\n",
       "    <tr>\n",
       "      <th>34</th>\n",
       "      <td>139465</td>\n",
       "    </tr>\n",
       "  </tbody>\n",
       "</table>\n",
       "</div>"
      ],
      "text/plain": [
       "    Salary\n",
       "0    39343\n",
       "1    46205\n",
       "2    37731\n",
       "3    43525\n",
       "4    39891\n",
       "5    56642\n",
       "6    60150\n",
       "7    54445\n",
       "8    64445\n",
       "9    57189\n",
       "10   63218\n",
       "11   55794\n",
       "12   56957\n",
       "13   57081\n",
       "14   61111\n",
       "15   67938\n",
       "16   66029\n",
       "17   83088\n",
       "18   81363\n",
       "19   93940\n",
       "20   91738\n",
       "21   98273\n",
       "22  101302\n",
       "23  113812\n",
       "24  109431\n",
       "25  105582\n",
       "26  116969\n",
       "27  112635\n",
       "28  122391\n",
       "29  121872\n",
       "30  127345\n",
       "31  126756\n",
       "32  128765\n",
       "33  135675\n",
       "34  139465"
      ]
     },
     "execution_count": 14,
     "metadata": {},
     "output_type": "execute_result"
    }
   ],
   "source": [
    "y"
   ]
  },
  {
   "cell_type": "code",
   "execution_count": 15,
   "metadata": {
    "colab": {
     "base_uri": "https://localhost:8080/",
     "height": 34
    },
    "colab_type": "code",
    "id": "XpGU63Ne1e9P",
    "outputId": "e16c74ca-dc1c-416c-dc44-7f927bb99bc6"
   },
   "outputs": [
    {
     "data": {
      "text/plain": [
       "(35, 1)"
      ]
     },
     "execution_count": 15,
     "metadata": {},
     "output_type": "execute_result"
    }
   ],
   "source": [
    "X.shape"
   ]
  },
  {
   "cell_type": "code",
   "execution_count": 16,
   "metadata": {
    "colab": {
     "base_uri": "https://localhost:8080/",
     "height": 34
    },
    "colab_type": "code",
    "id": "OjGj0RALA0qZ",
    "outputId": "26559a6c-880b-45b4-a1e8-3c4b92bea889"
   },
   "outputs": [
    {
     "data": {
      "text/plain": [
       "(35, 1)"
      ]
     },
     "execution_count": 16,
     "metadata": {},
     "output_type": "execute_result"
    }
   ],
   "source": [
    "y.shape"
   ]
  },
  {
   "cell_type": "code",
   "execution_count": 17,
   "metadata": {
    "colab": {},
    "colab_type": "code",
    "id": "jIeiK1maA6mm"
   },
   "outputs": [],
   "source": [
    "X = np.array(X).astype('float32')\n",
    "y = np.array(y).astype('float32')"
   ]
  },
  {
   "cell_type": "code",
   "execution_count": 18,
   "metadata": {},
   "outputs": [
    {
     "data": {
      "text/plain": [
       "array([[ 1.1],\n",
       "       [ 1.3],\n",
       "       [ 1.5],\n",
       "       [ 2. ],\n",
       "       [ 2.2],\n",
       "       [ 2.9],\n",
       "       [ 3. ],\n",
       "       [ 3.2],\n",
       "       [ 3.2],\n",
       "       [ 3.7],\n",
       "       [ 3.9],\n",
       "       [ 4. ],\n",
       "       [ 4. ],\n",
       "       [ 4.1],\n",
       "       [ 4.5],\n",
       "       [ 4.9],\n",
       "       [ 5.1],\n",
       "       [ 5.3],\n",
       "       [ 5.9],\n",
       "       [ 6. ],\n",
       "       [ 6.8],\n",
       "       [ 7.1],\n",
       "       [ 7.9],\n",
       "       [ 8.2],\n",
       "       [ 8.7],\n",
       "       [ 9. ],\n",
       "       [ 9.5],\n",
       "       [ 9.6],\n",
       "       [10.3],\n",
       "       [10.5],\n",
       "       [11.2],\n",
       "       [11.5],\n",
       "       [12.3],\n",
       "       [12.9],\n",
       "       [13.5]], dtype=float32)"
      ]
     },
     "execution_count": 18,
     "metadata": {},
     "output_type": "execute_result"
    }
   ],
   "source": [
    "# Only take the numerical variables and scale them\n",
    "X "
   ]
  },
  {
   "cell_type": "code",
   "execution_count": 19,
   "metadata": {
    "colab": {},
    "colab_type": "code",
    "id": "GoReLFfnA6uF"
   },
   "outputs": [],
   "source": [
    "# split the data into test and train sets\n",
    "from sklearn.model_selection import train_test_split\n",
    "\n",
    "X_train, X_test, y_train, y_test = train_test_split(X, y, test_size = 0.2)\n"
   ]
  },
  {
   "cell_type": "markdown",
   "metadata": {},
   "source": [
    "MINI CHALLENGE\n",
    " - Try splitting the data into 75% for training and the rest for testing\n",
    " - Verify that the split was successful by obtaining the shape of both X_train and X_test\n",
    " - Did you notice any change in the order of the data? why?"
   ]
  },
  {
   "cell_type": "code",
   "execution_count": null,
   "metadata": {},
   "outputs": [],
   "source": []
  },
  {
   "cell_type": "markdown",
   "metadata": {
    "colab_type": "text",
    "id": "idWHLv5alF4C"
   },
   "source": [
    "# TASK #5: TRAIN A LINEAR REGRESSION MODEL IN SK-LEARN (NOTE THAT SAGEMAKER BUILT-IN ALGORITHMS ARE NOT USED HERE)"
   ]
  },
  {
   "cell_type": "code",
   "execution_count": 20,
   "metadata": {
    "colab": {
     "base_uri": "https://localhost:8080/",
     "height": 34
    },
    "colab_type": "code",
    "id": "yHL-6mKwBURs",
    "outputId": "10d71b6d-9c2b-4bab-8b27-d3c5883e6a25"
   },
   "outputs": [
    {
     "data": {
      "text/html": [
       "<style>#sk-container-id-1 {color: black;background-color: white;}#sk-container-id-1 pre{padding: 0;}#sk-container-id-1 div.sk-toggleable {background-color: white;}#sk-container-id-1 label.sk-toggleable__label {cursor: pointer;display: block;width: 100%;margin-bottom: 0;padding: 0.3em;box-sizing: border-box;text-align: center;}#sk-container-id-1 label.sk-toggleable__label-arrow:before {content: \"▸\";float: left;margin-right: 0.25em;color: #696969;}#sk-container-id-1 label.sk-toggleable__label-arrow:hover:before {color: black;}#sk-container-id-1 div.sk-estimator:hover label.sk-toggleable__label-arrow:before {color: black;}#sk-container-id-1 div.sk-toggleable__content {max-height: 0;max-width: 0;overflow: hidden;text-align: left;background-color: #f0f8ff;}#sk-container-id-1 div.sk-toggleable__content pre {margin: 0.2em;color: black;border-radius: 0.25em;background-color: #f0f8ff;}#sk-container-id-1 input.sk-toggleable__control:checked~div.sk-toggleable__content {max-height: 200px;max-width: 100%;overflow: auto;}#sk-container-id-1 input.sk-toggleable__control:checked~label.sk-toggleable__label-arrow:before {content: \"▾\";}#sk-container-id-1 div.sk-estimator input.sk-toggleable__control:checked~label.sk-toggleable__label {background-color: #d4ebff;}#sk-container-id-1 div.sk-label input.sk-toggleable__control:checked~label.sk-toggleable__label {background-color: #d4ebff;}#sk-container-id-1 input.sk-hidden--visually {border: 0;clip: rect(1px 1px 1px 1px);clip: rect(1px, 1px, 1px, 1px);height: 1px;margin: -1px;overflow: hidden;padding: 0;position: absolute;width: 1px;}#sk-container-id-1 div.sk-estimator {font-family: monospace;background-color: #f0f8ff;border: 1px dotted black;border-radius: 0.25em;box-sizing: border-box;margin-bottom: 0.5em;}#sk-container-id-1 div.sk-estimator:hover {background-color: #d4ebff;}#sk-container-id-1 div.sk-parallel-item::after {content: \"\";width: 100%;border-bottom: 1px solid gray;flex-grow: 1;}#sk-container-id-1 div.sk-label:hover label.sk-toggleable__label {background-color: #d4ebff;}#sk-container-id-1 div.sk-serial::before {content: \"\";position: absolute;border-left: 1px solid gray;box-sizing: border-box;top: 0;bottom: 0;left: 50%;z-index: 0;}#sk-container-id-1 div.sk-serial {display: flex;flex-direction: column;align-items: center;background-color: white;padding-right: 0.2em;padding-left: 0.2em;position: relative;}#sk-container-id-1 div.sk-item {position: relative;z-index: 1;}#sk-container-id-1 div.sk-parallel {display: flex;align-items: stretch;justify-content: center;background-color: white;position: relative;}#sk-container-id-1 div.sk-item::before, #sk-container-id-1 div.sk-parallel-item::before {content: \"\";position: absolute;border-left: 1px solid gray;box-sizing: border-box;top: 0;bottom: 0;left: 50%;z-index: -1;}#sk-container-id-1 div.sk-parallel-item {display: flex;flex-direction: column;z-index: 1;position: relative;background-color: white;}#sk-container-id-1 div.sk-parallel-item:first-child::after {align-self: flex-end;width: 50%;}#sk-container-id-1 div.sk-parallel-item:last-child::after {align-self: flex-start;width: 50%;}#sk-container-id-1 div.sk-parallel-item:only-child::after {width: 0;}#sk-container-id-1 div.sk-dashed-wrapped {border: 1px dashed gray;margin: 0 0.4em 0.5em 0.4em;box-sizing: border-box;padding-bottom: 0.4em;background-color: white;}#sk-container-id-1 div.sk-label label {font-family: monospace;font-weight: bold;display: inline-block;line-height: 1.2em;}#sk-container-id-1 div.sk-label-container {text-align: center;}#sk-container-id-1 div.sk-container {/* jupyter's `normalize.less` sets `[hidden] { display: none; }` but bootstrap.min.css set `[hidden] { display: none !important; }` so we also need the `!important` here to be able to override the default hidden behavior on the sphinx rendered scikit-learn.org. See: https://github.com/scikit-learn/scikit-learn/issues/21755 */display: inline-block !important;position: relative;}#sk-container-id-1 div.sk-text-repr-fallback {display: none;}</style><div id=\"sk-container-id-1\" class=\"sk-top-container\"><div class=\"sk-text-repr-fallback\"><pre>LinearRegression()</pre><b>In a Jupyter environment, please rerun this cell to show the HTML representation or trust the notebook. <br />On GitHub, the HTML representation is unable to render, please try loading this page with nbviewer.org.</b></div><div class=\"sk-container\" hidden><div class=\"sk-item\"><div class=\"sk-estimator sk-toggleable\"><input class=\"sk-toggleable__control sk-hidden--visually\" id=\"sk-estimator-id-1\" type=\"checkbox\" checked><label for=\"sk-estimator-id-1\" class=\"sk-toggleable__label sk-toggleable__label-arrow\">LinearRegression</label><div class=\"sk-toggleable__content\"><pre>LinearRegression()</pre></div></div></div></div></div>"
      ],
      "text/plain": [
       "LinearRegression()"
      ]
     },
     "execution_count": 20,
     "metadata": {},
     "output_type": "execute_result"
    }
   ],
   "source": [
    "# using linear regression model\n",
    "from sklearn.linear_model import LinearRegression\n",
    "from sklearn.metrics import mean_squared_error, accuracy_score\n",
    "\n",
    "regresssion_model_sklearn = LinearRegression(fit_intercept = True)\n",
    "regresssion_model_sklearn.fit(X_train, y_train)\n"
   ]
  },
  {
   "cell_type": "code",
   "execution_count": 21,
   "metadata": {
    "colab": {
     "base_uri": "https://localhost:8080/",
     "height": 34
    },
    "colab_type": "code",
    "id": "elD8m5N0BgEY",
    "outputId": "16a1813d-a0f1-4d1f-dc02-d7ad5a445417"
   },
   "outputs": [
    {
     "data": {
      "text/plain": [
<<<<<<< HEAD
       "0.9510402903740254"
=======
       "0.9362431383816537"
>>>>>>> ed77e4bc4c49b7306ce6318a262f499b84851fbb
      ]
     },
     "execution_count": 21,
     "metadata": {},
     "output_type": "execute_result"
    }
   ],
   "source": [
    "regresssion_model_sklearn_accuracy = regresssion_model_sklearn.score(X_test, y_test)\n",
    "regresssion_model_sklearn_accuracy"
   ]
  },
  {
   "cell_type": "code",
   "execution_count": 22,
   "metadata": {},
   "outputs": [
    {
     "name": "stdout",
     "output_type": "stream",
     "text": [
<<<<<<< HEAD
      "Linear Model Coefficient (m):  [[8588.037]]\n",
      "Linear Model Coefficient (b):  [29520.152]\n"
=======
      "Linear Model Coefficient (m):  [[8835.442]]\n",
      "Linear Model Coefficient (b):  [28084.227]\n"
>>>>>>> ed77e4bc4c49b7306ce6318a262f499b84851fbb
     ]
    }
   ],
   "source": [
    "print('Linear Model Coefficient (m): ', regresssion_model_sklearn.coef_)\n",
    "print('Linear Model Coefficient (b): ', regresssion_model_sklearn.intercept_)"
   ]
  },
  {
   "cell_type": "markdown",
   "metadata": {},
   "source": [
    "MINI CHALLENGE\n",
    "- Retrain the model while setting the fit_intercept = False, what do you notice?"
   ]
  },
  {
   "cell_type": "code",
   "execution_count": null,
   "metadata": {},
   "outputs": [],
   "source": []
  },
  {
   "cell_type": "markdown",
   "metadata": {},
   "source": [
    "# TASK #6: EVALUATE TRAINED MODEL PERFORMANCE (NOTE THAT SAGEMAKER BUILT-IN ALGORITHMS ARE NOT USED HERE)"
   ]
  },
  {
   "cell_type": "code",
   "execution_count": 23,
   "metadata": {},
   "outputs": [],
   "source": [
    "y_predict = regresssion_model_sklearn.predict(X_test)"
   ]
  },
  {
   "cell_type": "code",
   "execution_count": 24,
   "metadata": {
    "scrolled": true
   },
   "outputs": [
    {
     "data": {
      "text/plain": [
<<<<<<< HEAD
       "array([[128282.58 ],\n",
       "       [125706.17 ],\n",
       "       [ 61295.89 ],\n",
       "       [111106.5  ],\n",
       "       [ 63013.496],\n",
       "       [ 99942.06 ],\n",
       "       [ 73319.14 ]], dtype=float32)"
=======
       "array([[147362.69 ],\n",
       "       [ 63425.996],\n",
       "       [ 56357.64 ],\n",
       "       [ 80213.336],\n",
       "       [ 67843.72 ],\n",
       "       [119089.28 ],\n",
       "       [ 81096.88 ]], dtype=float32)"
>>>>>>> ed77e4bc4c49b7306ce6318a262f499b84851fbb
      ]
     },
     "execution_count": 24,
     "metadata": {},
     "output_type": "execute_result"
    }
   ],
   "source": [
    "y_predict"
   ]
  },
  {
   "cell_type": "code",
   "execution_count": 25,
   "metadata": {},
   "outputs": [
    {
     "data": {
<<<<<<< HEAD
      "image/png": "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",
=======
      "image/png": "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\n",
>>>>>>> ed77e4bc4c49b7306ce6318a262f499b84851fbb
      "text/plain": [
       "<Figure size 640x480 with 1 Axes>"
      ]
     },
     "metadata": {},
     "output_type": "display_data"
    }
   ],
   "source": [
    "plt.scatter(X_train, y_train, color = 'gray')\n",
    "plt.plot(X_train, regresssion_model_sklearn.predict(X_train), color = 'red')\n",
    "plt.ylabel('Salary')\n",
    "plt.xlabel('Number of Years of Experience')\n",
    "plt.title('Salary vs. Years of Experience')\n",
    "plt.show()"
   ]
  },
  {
   "cell_type": "markdown",
   "metadata": {},
   "source": [
    "MINI CHALLENGE\n",
    " - Use the trained model, obtain the salary corresponding to eployees who have years of experience = 5"
   ]
  },
  {
   "cell_type": "markdown",
   "metadata": {},
   "source": [
    "# TASK #7: TRAIN A LINEAR LEARNER MODEL USING SAGEMAKER"
   ]
  },
  {
   "cell_type": "code",
<<<<<<< HEAD
   "execution_count": 30,
=======
   "execution_count": 26,
>>>>>>> ed77e4bc4c49b7306ce6318a262f499b84851fbb
   "metadata": {},
   "outputs": [],
   "source": [
    "# Boto3 is the Amazon Web Services (AWS) Software Development Kit (SDK) for Python\n",
    "# Boto3 allows Python developer to write software that makes use of services like Amazon S3 and Amazon EC2\n",
    "\n",
    "import sagemaker\n",
    "import boto3\n",
    "from sagemaker import Session\n",
    "\n",
    "# Let's create a Sagemaker session\n",
    "boto_session = boto3.Session(profile_name='ml_user_predict', region_name='us-east-1')\n",
    "sagemaker_session = sagemaker.Session(boto_session=boto_session)\n",
    "#sagemaker_session = sagemaker.Session()\n"
   ]
  },
  {
   "cell_type": "code",
   "execution_count": 37,
   "metadata": {},
   "outputs": [],
   "source": [
    "#bucket = Session().default_bucket()\n",
    "bucket = 'my-salary-prediction'\n",
    "\n",
    "# Let's define the S3 bucket and prefix that we want to use in this session\n",
    "# bucket = 'sagemaker-practica' # bucket named 'sagemaker-practical' was created beforehand\n",
    "prefix = 'linear_learner' # prefix is the subfolder within the bucket."
   ]
  },
  {
   "cell_type": "code",
   "execution_count": 38,
   "metadata": {},
   "outputs": [],
   "source": [
    "# Let's get the execution role for the notebook instance. \n",
    "# This is the IAM role that you created when you created your notebook instance. You pass the role to the training job.\n",
    "# Note that AWS Identity and Access Management (IAM) role that Amazon SageMaker can assume to perform tasks on your behalf \n",
    "# (for example, reading training results, called model artifacts, from the S3 bucket and writing training results to Amazon S3)."
   ]
  },
  {
   "cell_type": "code",
   "execution_count": 41,
   "metadata": {},
   "outputs": [],
   "source": [
    "from sagemaker import get_execution_role"
   ]
  },
  {
   "cell_type": "code",
   "execution_count": 46,
   "metadata": {},
   "outputs": [],
   "source": [
    "#role = get_execution_role(sagemaker_session)\n",
    "#print(role)"
   ]
  },
  {
   "cell_type": "code",
<<<<<<< HEAD
   "execution_count": 47,
=======
   "execution_count": 27,
>>>>>>> ed77e4bc4c49b7306ce6318a262f499b84851fbb
   "metadata": {},
   "outputs": [
    {
     "data": {
      "text/plain": [
       "(28, 1)"
      ]
     },
<<<<<<< HEAD
     "execution_count": 47,
=======
     "execution_count": 27,
>>>>>>> ed77e4bc4c49b7306ce6318a262f499b84851fbb
     "metadata": {},
     "output_type": "execute_result"
    }
   ],
   "source": [
    "X_train.shape"
   ]
  },
  {
   "cell_type": "code",
<<<<<<< HEAD
   "execution_count": 48,
=======
   "execution_count": 28,
>>>>>>> ed77e4bc4c49b7306ce6318a262f499b84851fbb
   "metadata": {},
   "outputs": [],
   "source": [
    "y_train = y_train[:,0]"
   ]
  },
  {
   "cell_type": "code",
<<<<<<< HEAD
   "execution_count": 49,
=======
   "execution_count": 29,
>>>>>>> ed77e4bc4c49b7306ce6318a262f499b84851fbb
   "metadata": {},
   "outputs": [
    {
     "data": {
      "text/plain": [
       "(28,)"
      ]
     },
<<<<<<< HEAD
     "execution_count": 49,
=======
     "execution_count": 29,
>>>>>>> ed77e4bc4c49b7306ce6318a262f499b84851fbb
     "metadata": {},
     "output_type": "execute_result"
    }
   ],
   "source": [
    "y_train.shape"
   ]
  },
  {
   "cell_type": "code",
<<<<<<< HEAD
   "execution_count": 50,
=======
   "execution_count": 30,
>>>>>>> ed77e4bc4c49b7306ce6318a262f499b84851fbb
   "metadata": {},
   "outputs": [
    {
     "data": {
      "text/plain": [
       "0"
      ]
     },
<<<<<<< HEAD
     "execution_count": 50,
=======
     "execution_count": 30,
>>>>>>> ed77e4bc4c49b7306ce6318a262f499b84851fbb
     "metadata": {},
     "output_type": "execute_result"
    }
   ],
   "source": [
    "import io # The io module allows for dealing with various types of I/O (text I/O, binary I/O and raw I/O). \n",
    "import numpy as np\n",
    "import sagemaker.amazon.common as smac # sagemaker common libary\n",
    "\n",
    "# Code below converts the data in numpy array format to RecordIO format\n",
    "# This is the format required by Sagemaker Linear Learner \n",
    "\n",
    "buf = io.BytesIO() # create an in-memory byte array (buf is a buffer I will be writing to)\n",
    "smac.write_numpy_to_dense_tensor(buf, X_train, y_train)\n",
    "buf.seek(0) \n",
    "# When you write to in-memory byte arrays, it increments 1 every time you write to it\n",
    "# Let's reset that back to zero \n"
   ]
  },
  {
   "cell_type": "code",
<<<<<<< HEAD
   "execution_count": 51,
   "metadata": {},
   "outputs": [
    {
     "ename": "NoCredentialsError",
     "evalue": "Unable to locate credentials",
     "output_type": "error",
     "traceback": [
      "\u001b[1;31m---------------------------------------------------------------------------\u001b[0m",
      "\u001b[1;31mNoCredentialsError\u001b[0m                        Traceback (most recent call last)",
      "Cell \u001b[1;32mIn [51], line 9\u001b[0m\n\u001b[0;32m      6\u001b[0m key \u001b[39m=\u001b[39m \u001b[39m'\u001b[39m\u001b[39mlinear-train-data\u001b[39m\u001b[39m'\u001b[39m\n\u001b[0;32m      8\u001b[0m \u001b[39m# The following code uploads the data in record-io format to S3 bucket to be accessed later for training\u001b[39;00m\n\u001b[1;32m----> 9\u001b[0m boto3\u001b[39m.\u001b[39;49mresource(\u001b[39m'\u001b[39;49m\u001b[39ms3\u001b[39;49m\u001b[39m'\u001b[39;49m)\u001b[39m.\u001b[39;49mBucket(bucket)\u001b[39m.\u001b[39;49mObject(os\u001b[39m.\u001b[39;49mpath\u001b[39m.\u001b[39;49mjoin(prefix, \u001b[39m'\u001b[39;49m\u001b[39mtrain\u001b[39;49m\u001b[39m'\u001b[39;49m, key))\u001b[39m.\u001b[39;49mupload_fileobj(buf)\n\u001b[0;32m     11\u001b[0m \u001b[39m# Let's print out the training data location in s3\u001b[39;00m\n\u001b[0;32m     12\u001b[0m s3_train_data \u001b[39m=\u001b[39m \u001b[39m'\u001b[39m\u001b[39ms3://\u001b[39m\u001b[39m{}\u001b[39;00m\u001b[39m/\u001b[39m\u001b[39m{}\u001b[39;00m\u001b[39m/train/\u001b[39m\u001b[39m{}\u001b[39;00m\u001b[39m'\u001b[39m\u001b[39m.\u001b[39mformat(bucket, prefix, key)\n",
      "File \u001b[1;32mc:\\Users\\Sebas\\anaconda3\\envs\\aws_sagemaker\\lib\\site-packages\\boto3\\s3\\inject.py:725\u001b[0m, in \u001b[0;36mobject_upload_fileobj\u001b[1;34m(self, Fileobj, ExtraArgs, Callback, Config)\u001b[0m\n\u001b[0;32m    688\u001b[0m \u001b[39mdef\u001b[39;00m \u001b[39mobject_upload_fileobj\u001b[39m(\n\u001b[0;32m    689\u001b[0m     \u001b[39mself\u001b[39m, Fileobj, ExtraArgs\u001b[39m=\u001b[39m\u001b[39mNone\u001b[39;00m, Callback\u001b[39m=\u001b[39m\u001b[39mNone\u001b[39;00m, Config\u001b[39m=\u001b[39m\u001b[39mNone\u001b[39;00m\n\u001b[0;32m    690\u001b[0m ):\n\u001b[0;32m    691\u001b[0m     \u001b[39m\"\"\"Upload a file-like object to this object.\u001b[39;00m\n\u001b[0;32m    692\u001b[0m \n\u001b[0;32m    693\u001b[0m \u001b[39m    The file-like object must be in binary mode.\u001b[39;00m\n\u001b[1;32m   (...)\u001b[0m\n\u001b[0;32m    723\u001b[0m \u001b[39m        upload.\u001b[39;00m\n\u001b[0;32m    724\u001b[0m \u001b[39m    \"\"\"\u001b[39;00m\n\u001b[1;32m--> 725\u001b[0m     \u001b[39mreturn\u001b[39;00m \u001b[39mself\u001b[39;49m\u001b[39m.\u001b[39;49mmeta\u001b[39m.\u001b[39;49mclient\u001b[39m.\u001b[39;49mupload_fileobj(\n\u001b[0;32m    726\u001b[0m         Fileobj\u001b[39m=\u001b[39;49mFileobj,\n\u001b[0;32m    727\u001b[0m         Bucket\u001b[39m=\u001b[39;49m\u001b[39mself\u001b[39;49m\u001b[39m.\u001b[39;49mbucket_name,\n\u001b[0;32m    728\u001b[0m         Key\u001b[39m=\u001b[39;49m\u001b[39mself\u001b[39;49m\u001b[39m.\u001b[39;49mkey,\n\u001b[0;32m    729\u001b[0m         ExtraArgs\u001b[39m=\u001b[39;49mExtraArgs,\n\u001b[0;32m    730\u001b[0m         Callback\u001b[39m=\u001b[39;49mCallback,\n\u001b[0;32m    731\u001b[0m         Config\u001b[39m=\u001b[39;49mConfig,\n\u001b[0;32m    732\u001b[0m     )\n",
      "File \u001b[1;32mc:\\Users\\Sebas\\anaconda3\\envs\\aws_sagemaker\\lib\\site-packages\\boto3\\s3\\inject.py:636\u001b[0m, in \u001b[0;36mupload_fileobj\u001b[1;34m(self, Fileobj, Bucket, Key, ExtraArgs, Callback, Config)\u001b[0m\n\u001b[0;32m    628\u001b[0m \u001b[39mwith\u001b[39;00m create_transfer_manager(\u001b[39mself\u001b[39m, config) \u001b[39mas\u001b[39;00m manager:\n\u001b[0;32m    629\u001b[0m     future \u001b[39m=\u001b[39m manager\u001b[39m.\u001b[39mupload(\n\u001b[0;32m    630\u001b[0m         fileobj\u001b[39m=\u001b[39mFileobj,\n\u001b[0;32m    631\u001b[0m         bucket\u001b[39m=\u001b[39mBucket,\n\u001b[1;32m   (...)\u001b[0m\n\u001b[0;32m    634\u001b[0m         subscribers\u001b[39m=\u001b[39msubscribers,\n\u001b[0;32m    635\u001b[0m     )\n\u001b[1;32m--> 636\u001b[0m     \u001b[39mreturn\u001b[39;00m future\u001b[39m.\u001b[39;49mresult()\n",
      "File \u001b[1;32mc:\\Users\\Sebas\\anaconda3\\envs\\aws_sagemaker\\lib\\site-packages\\s3transfer\\futures.py:103\u001b[0m, in \u001b[0;36mTransferFuture.result\u001b[1;34m(self)\u001b[0m\n\u001b[0;32m     98\u001b[0m \u001b[39mdef\u001b[39;00m \u001b[39mresult\u001b[39m(\u001b[39mself\u001b[39m):\n\u001b[0;32m     99\u001b[0m     \u001b[39mtry\u001b[39;00m:\n\u001b[0;32m    100\u001b[0m         \u001b[39m# Usually the result() method blocks until the transfer is done,\u001b[39;00m\n\u001b[0;32m    101\u001b[0m         \u001b[39m# however if a KeyboardInterrupt is raised we want want to exit\u001b[39;00m\n\u001b[0;32m    102\u001b[0m         \u001b[39m# out of this and propagate the exception.\u001b[39;00m\n\u001b[1;32m--> 103\u001b[0m         \u001b[39mreturn\u001b[39;00m \u001b[39mself\u001b[39;49m\u001b[39m.\u001b[39;49m_coordinator\u001b[39m.\u001b[39;49mresult()\n\u001b[0;32m    104\u001b[0m     \u001b[39mexcept\u001b[39;00m \u001b[39mKeyboardInterrupt\u001b[39;00m \u001b[39mas\u001b[39;00m e:\n\u001b[0;32m    105\u001b[0m         \u001b[39mself\u001b[39m\u001b[39m.\u001b[39mcancel()\n",
      "File \u001b[1;32mc:\\Users\\Sebas\\anaconda3\\envs\\aws_sagemaker\\lib\\site-packages\\s3transfer\\futures.py:266\u001b[0m, in \u001b[0;36mTransferCoordinator.result\u001b[1;34m(self)\u001b[0m\n\u001b[0;32m    263\u001b[0m \u001b[39m# Once done waiting, raise an exception if present or return the\u001b[39;00m\n\u001b[0;32m    264\u001b[0m \u001b[39m# final result.\u001b[39;00m\n\u001b[0;32m    265\u001b[0m \u001b[39mif\u001b[39;00m \u001b[39mself\u001b[39m\u001b[39m.\u001b[39m_exception:\n\u001b[1;32m--> 266\u001b[0m     \u001b[39mraise\u001b[39;00m \u001b[39mself\u001b[39m\u001b[39m.\u001b[39m_exception\n\u001b[0;32m    267\u001b[0m \u001b[39mreturn\u001b[39;00m \u001b[39mself\u001b[39m\u001b[39m.\u001b[39m_result\n",
      "File \u001b[1;32mc:\\Users\\Sebas\\anaconda3\\envs\\aws_sagemaker\\lib\\site-packages\\s3transfer\\tasks.py:139\u001b[0m, in \u001b[0;36mTask.__call__\u001b[1;34m(self)\u001b[0m\n\u001b[0;32m    135\u001b[0m     \u001b[39m# If the task is not done (really only if some other related\u001b[39;00m\n\u001b[0;32m    136\u001b[0m     \u001b[39m# task to the TransferFuture had failed) then execute the task's\u001b[39;00m\n\u001b[0;32m    137\u001b[0m     \u001b[39m# main() method.\u001b[39;00m\n\u001b[0;32m    138\u001b[0m     \u001b[39mif\u001b[39;00m \u001b[39mnot\u001b[39;00m \u001b[39mself\u001b[39m\u001b[39m.\u001b[39m_transfer_coordinator\u001b[39m.\u001b[39mdone():\n\u001b[1;32m--> 139\u001b[0m         \u001b[39mreturn\u001b[39;00m \u001b[39mself\u001b[39;49m\u001b[39m.\u001b[39;49m_execute_main(kwargs)\n\u001b[0;32m    140\u001b[0m \u001b[39mexcept\u001b[39;00m \u001b[39mException\u001b[39;00m \u001b[39mas\u001b[39;00m e:\n\u001b[0;32m    141\u001b[0m     \u001b[39mself\u001b[39m\u001b[39m.\u001b[39m_log_and_set_exception(e)\n",
      "File \u001b[1;32mc:\\Users\\Sebas\\anaconda3\\envs\\aws_sagemaker\\lib\\site-packages\\s3transfer\\tasks.py:162\u001b[0m, in \u001b[0;36mTask._execute_main\u001b[1;34m(self, kwargs)\u001b[0m\n\u001b[0;32m    159\u001b[0m \u001b[39m# Log what is about to be executed.\u001b[39;00m\n\u001b[0;32m    160\u001b[0m logger\u001b[39m.\u001b[39mdebug(\u001b[39mf\u001b[39m\u001b[39m\"\u001b[39m\u001b[39mExecuting task \u001b[39m\u001b[39m{\u001b[39;00m\u001b[39mself\u001b[39m\u001b[39m}\u001b[39;00m\u001b[39m with kwargs \u001b[39m\u001b[39m{\u001b[39;00mkwargs_to_display\u001b[39m}\u001b[39;00m\u001b[39m\"\u001b[39m)\n\u001b[1;32m--> 162\u001b[0m return_value \u001b[39m=\u001b[39m \u001b[39mself\u001b[39;49m\u001b[39m.\u001b[39;49m_main(\u001b[39m*\u001b[39;49m\u001b[39m*\u001b[39;49mkwargs)\n\u001b[0;32m    163\u001b[0m \u001b[39m# If the task is the final task, then set the TransferFuture's\u001b[39;00m\n\u001b[0;32m    164\u001b[0m \u001b[39m# value to the return value from main().\u001b[39;00m\n\u001b[0;32m    165\u001b[0m \u001b[39mif\u001b[39;00m \u001b[39mself\u001b[39m\u001b[39m.\u001b[39m_is_final:\n",
      "File \u001b[1;32mc:\\Users\\Sebas\\anaconda3\\envs\\aws_sagemaker\\lib\\site-packages\\s3transfer\\upload.py:758\u001b[0m, in \u001b[0;36mPutObjectTask._main\u001b[1;34m(self, client, fileobj, bucket, key, extra_args)\u001b[0m\n\u001b[0;32m    749\u001b[0m \u001b[39m\"\"\"\u001b[39;00m\n\u001b[0;32m    750\u001b[0m \u001b[39m:param client: The client to use when calling PutObject\u001b[39;00m\n\u001b[0;32m    751\u001b[0m \u001b[39m:param fileobj: The file to upload.\u001b[39;00m\n\u001b[1;32m   (...)\u001b[0m\n\u001b[0;32m    755\u001b[0m \u001b[39m    used in the upload.\u001b[39;00m\n\u001b[0;32m    756\u001b[0m \u001b[39m\"\"\"\u001b[39;00m\n\u001b[0;32m    757\u001b[0m \u001b[39mwith\u001b[39;00m fileobj \u001b[39mas\u001b[39;00m body:\n\u001b[1;32m--> 758\u001b[0m     client\u001b[39m.\u001b[39;49mput_object(Bucket\u001b[39m=\u001b[39;49mbucket, Key\u001b[39m=\u001b[39;49mkey, Body\u001b[39m=\u001b[39;49mbody, \u001b[39m*\u001b[39;49m\u001b[39m*\u001b[39;49mextra_args)\n",
      "File \u001b[1;32mc:\\Users\\Sebas\\anaconda3\\envs\\aws_sagemaker\\lib\\site-packages\\botocore\\client.py:515\u001b[0m, in \u001b[0;36mClientCreator._create_api_method.<locals>._api_call\u001b[1;34m(self, *args, **kwargs)\u001b[0m\n\u001b[0;32m    511\u001b[0m     \u001b[39mraise\u001b[39;00m \u001b[39mTypeError\u001b[39;00m(\n\u001b[0;32m    512\u001b[0m         \u001b[39mf\u001b[39m\u001b[39m\"\u001b[39m\u001b[39m{\u001b[39;00mpy_operation_name\u001b[39m}\u001b[39;00m\u001b[39m() only accepts keyword arguments.\u001b[39m\u001b[39m\"\u001b[39m\n\u001b[0;32m    513\u001b[0m     )\n\u001b[0;32m    514\u001b[0m \u001b[39m# The \"self\" in this scope is referring to the BaseClient.\u001b[39;00m\n\u001b[1;32m--> 515\u001b[0m \u001b[39mreturn\u001b[39;00m \u001b[39mself\u001b[39;49m\u001b[39m.\u001b[39;49m_make_api_call(operation_name, kwargs)\n",
      "File \u001b[1;32mc:\\Users\\Sebas\\anaconda3\\envs\\aws_sagemaker\\lib\\site-packages\\botocore\\client.py:917\u001b[0m, in \u001b[0;36mBaseClient._make_api_call\u001b[1;34m(self, operation_name, api_params)\u001b[0m\n\u001b[0;32m    915\u001b[0m \u001b[39melse\u001b[39;00m:\n\u001b[0;32m    916\u001b[0m     apply_request_checksum(request_dict)\n\u001b[1;32m--> 917\u001b[0m     http, parsed_response \u001b[39m=\u001b[39m \u001b[39mself\u001b[39;49m\u001b[39m.\u001b[39;49m_make_request(\n\u001b[0;32m    918\u001b[0m         operation_model, request_dict, request_context\n\u001b[0;32m    919\u001b[0m     )\n\u001b[0;32m    921\u001b[0m \u001b[39mself\u001b[39m\u001b[39m.\u001b[39mmeta\u001b[39m.\u001b[39mevents\u001b[39m.\u001b[39memit(\n\u001b[0;32m    922\u001b[0m     \u001b[39m'\u001b[39m\u001b[39mafter-call.\u001b[39m\u001b[39m{service_id}\u001b[39;00m\u001b[39m.\u001b[39m\u001b[39m{operation_name}\u001b[39;00m\u001b[39m'\u001b[39m\u001b[39m.\u001b[39mformat(\n\u001b[0;32m    923\u001b[0m         service_id\u001b[39m=\u001b[39mservice_id, operation_name\u001b[39m=\u001b[39moperation_name\n\u001b[1;32m   (...)\u001b[0m\n\u001b[0;32m    928\u001b[0m     context\u001b[39m=\u001b[39mrequest_context,\n\u001b[0;32m    929\u001b[0m )\n\u001b[0;32m    931\u001b[0m \u001b[39mif\u001b[39;00m http\u001b[39m.\u001b[39mstatus_code \u001b[39m>\u001b[39m\u001b[39m=\u001b[39m \u001b[39m300\u001b[39m:\n",
      "File \u001b[1;32mc:\\Users\\Sebas\\anaconda3\\envs\\aws_sagemaker\\lib\\site-packages\\botocore\\client.py:940\u001b[0m, in \u001b[0;36mBaseClient._make_request\u001b[1;34m(self, operation_model, request_dict, request_context)\u001b[0m\n\u001b[0;32m    938\u001b[0m \u001b[39mdef\u001b[39;00m \u001b[39m_make_request\u001b[39m(\u001b[39mself\u001b[39m, operation_model, request_dict, request_context):\n\u001b[0;32m    939\u001b[0m     \u001b[39mtry\u001b[39;00m:\n\u001b[1;32m--> 940\u001b[0m         \u001b[39mreturn\u001b[39;00m \u001b[39mself\u001b[39;49m\u001b[39m.\u001b[39;49m_endpoint\u001b[39m.\u001b[39;49mmake_request(operation_model, request_dict)\n\u001b[0;32m    941\u001b[0m     \u001b[39mexcept\u001b[39;00m \u001b[39mException\u001b[39;00m \u001b[39mas\u001b[39;00m e:\n\u001b[0;32m    942\u001b[0m         \u001b[39mself\u001b[39m\u001b[39m.\u001b[39mmeta\u001b[39m.\u001b[39mevents\u001b[39m.\u001b[39memit(\n\u001b[0;32m    943\u001b[0m             \u001b[39m'\u001b[39m\u001b[39mafter-call-error.\u001b[39m\u001b[39m{service_id}\u001b[39;00m\u001b[39m.\u001b[39m\u001b[39m{operation_name}\u001b[39;00m\u001b[39m'\u001b[39m\u001b[39m.\u001b[39mformat(\n\u001b[0;32m    944\u001b[0m                 service_id\u001b[39m=\u001b[39m\u001b[39mself\u001b[39m\u001b[39m.\u001b[39m_service_model\u001b[39m.\u001b[39mservice_id\u001b[39m.\u001b[39mhyphenize(),\n\u001b[1;32m   (...)\u001b[0m\n\u001b[0;32m    948\u001b[0m             context\u001b[39m=\u001b[39mrequest_context,\n\u001b[0;32m    949\u001b[0m         )\n",
      "File \u001b[1;32mc:\\Users\\Sebas\\anaconda3\\envs\\aws_sagemaker\\lib\\site-packages\\botocore\\endpoint.py:119\u001b[0m, in \u001b[0;36mEndpoint.make_request\u001b[1;34m(self, operation_model, request_dict)\u001b[0m\n\u001b[0;32m    113\u001b[0m \u001b[39mdef\u001b[39;00m \u001b[39mmake_request\u001b[39m(\u001b[39mself\u001b[39m, operation_model, request_dict):\n\u001b[0;32m    114\u001b[0m     logger\u001b[39m.\u001b[39mdebug(\n\u001b[0;32m    115\u001b[0m         \u001b[39m\"\u001b[39m\u001b[39mMaking request for \u001b[39m\u001b[39m%s\u001b[39;00m\u001b[39m with params: \u001b[39m\u001b[39m%s\u001b[39;00m\u001b[39m\"\u001b[39m,\n\u001b[0;32m    116\u001b[0m         operation_model,\n\u001b[0;32m    117\u001b[0m         request_dict,\n\u001b[0;32m    118\u001b[0m     )\n\u001b[1;32m--> 119\u001b[0m     \u001b[39mreturn\u001b[39;00m \u001b[39mself\u001b[39;49m\u001b[39m.\u001b[39;49m_send_request(request_dict, operation_model)\n",
      "File \u001b[1;32mc:\\Users\\Sebas\\anaconda3\\envs\\aws_sagemaker\\lib\\site-packages\\botocore\\endpoint.py:198\u001b[0m, in \u001b[0;36mEndpoint._send_request\u001b[1;34m(self, request_dict, operation_model)\u001b[0m\n\u001b[0;32m    196\u001b[0m context \u001b[39m=\u001b[39m request_dict[\u001b[39m'\u001b[39m\u001b[39mcontext\u001b[39m\u001b[39m'\u001b[39m]\n\u001b[0;32m    197\u001b[0m \u001b[39mself\u001b[39m\u001b[39m.\u001b[39m_update_retries_context(context, attempts)\n\u001b[1;32m--> 198\u001b[0m request \u001b[39m=\u001b[39m \u001b[39mself\u001b[39;49m\u001b[39m.\u001b[39;49mcreate_request(request_dict, operation_model)\n\u001b[0;32m    199\u001b[0m success_response, exception \u001b[39m=\u001b[39m \u001b[39mself\u001b[39m\u001b[39m.\u001b[39m_get_response(\n\u001b[0;32m    200\u001b[0m     request, operation_model, context\n\u001b[0;32m    201\u001b[0m )\n\u001b[0;32m    202\u001b[0m \u001b[39mwhile\u001b[39;00m \u001b[39mself\u001b[39m\u001b[39m.\u001b[39m_needs_retry(\n\u001b[0;32m    203\u001b[0m     attempts,\n\u001b[0;32m    204\u001b[0m     operation_model,\n\u001b[1;32m   (...)\u001b[0m\n\u001b[0;32m    207\u001b[0m     exception,\n\u001b[0;32m    208\u001b[0m ):\n",
      "File \u001b[1;32mc:\\Users\\Sebas\\anaconda3\\envs\\aws_sagemaker\\lib\\site-packages\\botocore\\endpoint.py:134\u001b[0m, in \u001b[0;36mEndpoint.create_request\u001b[1;34m(self, params, operation_model)\u001b[0m\n\u001b[0;32m    130\u001b[0m     service_id \u001b[39m=\u001b[39m operation_model\u001b[39m.\u001b[39mservice_model\u001b[39m.\u001b[39mservice_id\u001b[39m.\u001b[39mhyphenize()\n\u001b[0;32m    131\u001b[0m     event_name \u001b[39m=\u001b[39m \u001b[39m'\u001b[39m\u001b[39mrequest-created.\u001b[39m\u001b[39m{service_id}\u001b[39;00m\u001b[39m.\u001b[39m\u001b[39m{op_name}\u001b[39;00m\u001b[39m'\u001b[39m\u001b[39m.\u001b[39mformat(\n\u001b[0;32m    132\u001b[0m         service_id\u001b[39m=\u001b[39mservice_id, op_name\u001b[39m=\u001b[39moperation_model\u001b[39m.\u001b[39mname\n\u001b[0;32m    133\u001b[0m     )\n\u001b[1;32m--> 134\u001b[0m     \u001b[39mself\u001b[39;49m\u001b[39m.\u001b[39;49m_event_emitter\u001b[39m.\u001b[39;49memit(\n\u001b[0;32m    135\u001b[0m         event_name,\n\u001b[0;32m    136\u001b[0m         request\u001b[39m=\u001b[39;49mrequest,\n\u001b[0;32m    137\u001b[0m         operation_name\u001b[39m=\u001b[39;49moperation_model\u001b[39m.\u001b[39;49mname,\n\u001b[0;32m    138\u001b[0m     )\n\u001b[0;32m    139\u001b[0m prepared_request \u001b[39m=\u001b[39m \u001b[39mself\u001b[39m\u001b[39m.\u001b[39mprepare_request(request)\n\u001b[0;32m    140\u001b[0m \u001b[39mreturn\u001b[39;00m prepared_request\n",
      "File \u001b[1;32mc:\\Users\\Sebas\\anaconda3\\envs\\aws_sagemaker\\lib\\site-packages\\botocore\\hooks.py:412\u001b[0m, in \u001b[0;36mEventAliaser.emit\u001b[1;34m(self, event_name, **kwargs)\u001b[0m\n\u001b[0;32m    410\u001b[0m \u001b[39mdef\u001b[39;00m \u001b[39memit\u001b[39m(\u001b[39mself\u001b[39m, event_name, \u001b[39m*\u001b[39m\u001b[39m*\u001b[39mkwargs):\n\u001b[0;32m    411\u001b[0m     aliased_event_name \u001b[39m=\u001b[39m \u001b[39mself\u001b[39m\u001b[39m.\u001b[39m_alias_event_name(event_name)\n\u001b[1;32m--> 412\u001b[0m     \u001b[39mreturn\u001b[39;00m \u001b[39mself\u001b[39;49m\u001b[39m.\u001b[39;49m_emitter\u001b[39m.\u001b[39;49memit(aliased_event_name, \u001b[39m*\u001b[39;49m\u001b[39m*\u001b[39;49mkwargs)\n",
      "File \u001b[1;32mc:\\Users\\Sebas\\anaconda3\\envs\\aws_sagemaker\\lib\\site-packages\\botocore\\hooks.py:256\u001b[0m, in \u001b[0;36mHierarchicalEmitter.emit\u001b[1;34m(self, event_name, **kwargs)\u001b[0m\n\u001b[0;32m    245\u001b[0m \u001b[39mdef\u001b[39;00m \u001b[39memit\u001b[39m(\u001b[39mself\u001b[39m, event_name, \u001b[39m*\u001b[39m\u001b[39m*\u001b[39mkwargs):\n\u001b[0;32m    246\u001b[0m     \u001b[39m\"\"\"\u001b[39;00m\n\u001b[0;32m    247\u001b[0m \u001b[39m    Emit an event by name with arguments passed as keyword args.\u001b[39;00m\n\u001b[0;32m    248\u001b[0m \n\u001b[1;32m   (...)\u001b[0m\n\u001b[0;32m    254\u001b[0m \u001b[39m             handlers.\u001b[39;00m\n\u001b[0;32m    255\u001b[0m \u001b[39m    \"\"\"\u001b[39;00m\n\u001b[1;32m--> 256\u001b[0m     \u001b[39mreturn\u001b[39;00m \u001b[39mself\u001b[39;49m\u001b[39m.\u001b[39;49m_emit(event_name, kwargs)\n",
      "File \u001b[1;32mc:\\Users\\Sebas\\anaconda3\\envs\\aws_sagemaker\\lib\\site-packages\\botocore\\hooks.py:239\u001b[0m, in \u001b[0;36mHierarchicalEmitter._emit\u001b[1;34m(self, event_name, kwargs, stop_on_response)\u001b[0m\n\u001b[0;32m    237\u001b[0m \u001b[39mfor\u001b[39;00m handler \u001b[39min\u001b[39;00m handlers_to_call:\n\u001b[0;32m    238\u001b[0m     logger\u001b[39m.\u001b[39mdebug(\u001b[39m'\u001b[39m\u001b[39mEvent \u001b[39m\u001b[39m%s\u001b[39;00m\u001b[39m: calling handler \u001b[39m\u001b[39m%s\u001b[39;00m\u001b[39m'\u001b[39m, event_name, handler)\n\u001b[1;32m--> 239\u001b[0m     response \u001b[39m=\u001b[39m handler(\u001b[39m*\u001b[39;49m\u001b[39m*\u001b[39;49mkwargs)\n\u001b[0;32m    240\u001b[0m     responses\u001b[39m.\u001b[39mappend((handler, response))\n\u001b[0;32m    241\u001b[0m     \u001b[39mif\u001b[39;00m stop_on_response \u001b[39mand\u001b[39;00m response \u001b[39mis\u001b[39;00m \u001b[39mnot\u001b[39;00m \u001b[39mNone\u001b[39;00m:\n",
      "File \u001b[1;32mc:\\Users\\Sebas\\anaconda3\\envs\\aws_sagemaker\\lib\\site-packages\\botocore\\signers.py:105\u001b[0m, in \u001b[0;36mRequestSigner.handler\u001b[1;34m(self, operation_name, request, **kwargs)\u001b[0m\n\u001b[0;32m    100\u001b[0m \u001b[39mdef\u001b[39;00m \u001b[39mhandler\u001b[39m(\u001b[39mself\u001b[39m, operation_name\u001b[39m=\u001b[39m\u001b[39mNone\u001b[39;00m, request\u001b[39m=\u001b[39m\u001b[39mNone\u001b[39;00m, \u001b[39m*\u001b[39m\u001b[39m*\u001b[39mkwargs):\n\u001b[0;32m    101\u001b[0m     \u001b[39m# This is typically hooked up to the \"request-created\" event\u001b[39;00m\n\u001b[0;32m    102\u001b[0m     \u001b[39m# from a client's event emitter.  When a new request is created\u001b[39;00m\n\u001b[0;32m    103\u001b[0m     \u001b[39m# this method is invoked to sign the request.\u001b[39;00m\n\u001b[0;32m    104\u001b[0m     \u001b[39m# Don't call this method directly.\u001b[39;00m\n\u001b[1;32m--> 105\u001b[0m     \u001b[39mreturn\u001b[39;00m \u001b[39mself\u001b[39;49m\u001b[39m.\u001b[39;49msign(operation_name, request)\n",
      "File \u001b[1;32mc:\\Users\\Sebas\\anaconda3\\envs\\aws_sagemaker\\lib\\site-packages\\botocore\\signers.py:189\u001b[0m, in \u001b[0;36mRequestSigner.sign\u001b[1;34m(self, operation_name, request, region_name, signing_type, expires_in, signing_name)\u001b[0m\n\u001b[0;32m    186\u001b[0m     \u001b[39melse\u001b[39;00m:\n\u001b[0;32m    187\u001b[0m         \u001b[39mraise\u001b[39;00m e\n\u001b[1;32m--> 189\u001b[0m auth\u001b[39m.\u001b[39;49madd_auth(request)\n",
      "File \u001b[1;32mc:\\Users\\Sebas\\anaconda3\\envs\\aws_sagemaker\\lib\\site-packages\\botocore\\auth.py:418\u001b[0m, in \u001b[0;36mSigV4Auth.add_auth\u001b[1;34m(self, request)\u001b[0m\n\u001b[0;32m    416\u001b[0m \u001b[39mdef\u001b[39;00m \u001b[39madd_auth\u001b[39m(\u001b[39mself\u001b[39m, request):\n\u001b[0;32m    417\u001b[0m     \u001b[39mif\u001b[39;00m \u001b[39mself\u001b[39m\u001b[39m.\u001b[39mcredentials \u001b[39mis\u001b[39;00m \u001b[39mNone\u001b[39;00m:\n\u001b[1;32m--> 418\u001b[0m         \u001b[39mraise\u001b[39;00m NoCredentialsError()\n\u001b[0;32m    419\u001b[0m     datetime_now \u001b[39m=\u001b[39m datetime\u001b[39m.\u001b[39mdatetime\u001b[39m.\u001b[39mutcnow()\n\u001b[0;32m    420\u001b[0m     request\u001b[39m.\u001b[39mcontext[\u001b[39m'\u001b[39m\u001b[39mtimestamp\u001b[39m\u001b[39m'\u001b[39m] \u001b[39m=\u001b[39m datetime_now\u001b[39m.\u001b[39mstrftime(SIGV4_TIMESTAMP)\n",
      "\u001b[1;31mNoCredentialsError\u001b[0m: Unable to locate credentials"
     ]
    }
   ],
=======
   "execution_count": null,
   "metadata": {},
   "outputs": [],
>>>>>>> ed77e4bc4c49b7306ce6318a262f499b84851fbb
   "source": [
    "import os\n",
    "\n",
    "# Code to upload RecordIO data to S3\n",
    " \n",
    "# Key refers to the name of the file    \n",
    "key = 'linear-train-data'\n",
    "\n",
    "# The following code uploads the data in record-io format to S3 bucket to be accessed later for training\n",
    "boto3.resource('s3').Bucket(bucket).Object(os.path.join(prefix, 'train', key)).upload_fileobj(buf)\n",
    "\n",
    "# Let's print out the training data location in s3\n",
    "s3_train_data = 's3://{}/{}/train/{}'.format(bucket, prefix, key)\n",
    "print('uploaded training data location: {}'.format(s3_train_data))"
   ]
  },
  {
   "cell_type": "code",
   "execution_count": null,
   "metadata": {},
   "outputs": [],
   "source": [
    "X_test.shape"
   ]
  },
  {
   "cell_type": "code",
   "execution_count": null,
   "metadata": {},
   "outputs": [],
   "source": [
    "y_test.shape"
   ]
  },
  {
   "cell_type": "code",
   "execution_count": null,
   "metadata": {},
   "outputs": [],
   "source": [
    "# Make sure that the target label is a vector\n",
    "y_test = y_test[:,0]\n"
   ]
  },
  {
   "cell_type": "code",
   "execution_count": null,
   "metadata": {},
   "outputs": [],
   "source": [
    "# Code to upload RecordIO data to S3\n",
    "\n",
    "buf = io.BytesIO() # create an in-memory byte array (buf is a buffer I will be writing to)\n",
    "smac.write_numpy_to_dense_tensor(buf, X_test, y_test)\n",
    "buf.seek(0) \n",
    "# When you write to in-memory byte arrays, it increments 1 every time you write to it\n",
    "# Let's reset that back to zero \n"
   ]
  },
  {
   "cell_type": "code",
   "execution_count": null,
   "metadata": {},
   "outputs": [],
   "source": [
    "# Key refers to the name of the file    \n",
    "key = 'linear-test-data'\n",
    "\n",
    "# The following code uploads the data in record-io format to S3 bucket to be accessed later for training\n",
    "boto3.resource('s3').Bucket(bucket).Object(os.path.join(prefix, 'test', key)).upload_fileobj(buf)\n",
    "\n",
    "# Let's print out the testing data location in s3\n",
    "s3_test_data = 's3://{}/{}/test/{}'.format(bucket, prefix, key)\n",
    "print('uploaded training data location: {}'.format(s3_test_data))"
   ]
  },
  {
   "cell_type": "code",
   "execution_count": null,
   "metadata": {},
   "outputs": [],
   "source": [
    "# create an output placeholder in S3 bucket to store the linear learner output\n",
    "\n",
    "output_location = 's3://{}/{}/output'.format(bucket, prefix)\n",
    "print('Training artifacts will be uploaded to: {}'.format(output_location))"
   ]
  },
  {
   "cell_type": "code",
   "execution_count": null,
   "metadata": {},
   "outputs": [],
   "source": [
    "# This code is used to get the training container of sagemaker built-in algorithms\n",
    "# all we have to do is to specify the name of the algorithm, that we want to use\n",
    "\n",
    "# Let's obtain a reference to the linearLearner container image\n",
    "# Note that all regression models are named estimators\n",
    "# You don't have to specify (hardcode) the region, get_image_uri will get the current region name using boto3.Session\n",
    "\n",
    "from sagemaker.amazon.amazon_estimator import get_image_uri\n",
    "\n",
    "container = get_image_uri(boto3.Session().region_name, 'linear-learner')"
   ]
  },
  {
   "cell_type": "code",
   "execution_count": null,
   "metadata": {},
   "outputs": [],
   "source": [
    "# We have pass in the container, the type of instance that we would like to use for training \n",
    "# output path and sagemaker session into the Estimator. \n",
    "# We can also specify how many instances we would like to use for training\n",
    "# sagemaker_session = sagemaker.Session()\n",
    "\n",
    "linear = sagemaker.estimator.Estimator(container,\n",
    "                                       role, \n",
    "                                       train_instance_count = 1, \n",
    "                                       train_instance_type = 'ml.c4.xlarge',\n",
    "                                       output_path = output_location,\n",
    "                                       sagemaker_session = sagemaker_session)\n",
    "\n",
    "\n",
    "# We can tune parameters like the number of features that we are passing in, type of predictor like 'regressor' or 'classifier', mini batch size, epochs\n",
    "# Train 32 different versions of the model and will get the best out of them (built-in parameters optimization!)\n",
    "\n",
    "linear.set_hyperparameters(feature_dim = 1,\n",
    "                           predictor_type = 'regressor',\n",
    "                           mini_batch_size = 5,\n",
    "                           epochs = 5,\n",
    "                           num_models = 32,\n",
    "                           loss = 'absolute_loss')\n",
    "\n",
    "# Now we are ready to pass in the training data from S3 to train the linear learner model\n",
    "\n",
    "linear.fit({'train': s3_train_data})\n",
    "\n",
    "# Let's see the progress using cloudwatch logs"
   ]
  },
  {
   "cell_type": "markdown",
   "metadata": {},
   "source": [
    "MINI CHALLENGE\n",
    "- Try to train the model with more epochs and additional number of models\n",
    "- Can you try to reduce the cost of billable seconds?"
   ]
  },
  {
   "cell_type": "code",
   "execution_count": null,
   "metadata": {},
   "outputs": [],
   "source": []
  },
  {
   "cell_type": "markdown",
   "metadata": {},
   "source": [
    "# TASK #8: DEPLOY AND TEST THE TRAINED LINEAR LEARNER MODEL "
   ]
  },
  {
   "cell_type": "code",
   "execution_count": null,
   "metadata": {},
   "outputs": [],
   "source": [
    "# Deploying the model to perform inference \n",
    "\n",
    "linear_regressor = linear.deploy(initial_instance_count = 1,\n",
    "                                          instance_type = 'ml.m4.xlarge')"
   ]
  },
  {
   "cell_type": "code",
   "execution_count": null,
   "metadata": {},
   "outputs": [],
   "source": [
    "from sagemaker.predictor import csv_serializer, json_deserializer\n",
    "\n",
    "# Content type overrides the data that will be passed to the deployed model, since the deployed model expects data in text/csv format.\n",
    "\n",
    "# Serializer accepts a single argument, the input data, and returns a sequence of bytes in the specified content type\n",
    "\n",
    "# Deserializer accepts two arguments, the result data and the response content type, and return a sequence of bytes in the specified content type.\n",
    "\n",
    "# Reference: https://sagemaker.readthedocs.io/en/stable/predictors.html\n",
    "\n",
    "# linear_regressor.content_type = 'text/csv'\n",
    "linear_regressor.serializer = csv_serializer\n",
    "linear_regressor.deserializer = json_deserializer"
   ]
  },
  {
   "cell_type": "code",
   "execution_count": null,
   "metadata": {},
   "outputs": [],
   "source": [
    "X_test"
   ]
  },
  {
   "cell_type": "code",
   "execution_count": null,
   "metadata": {},
   "outputs": [],
   "source": [
    "# making prediction on the test data\n",
    "\n",
    "result = linear_regressor.predict(X_test)"
   ]
  },
  {
   "cell_type": "code",
   "execution_count": null,
   "metadata": {},
   "outputs": [],
   "source": [
    "result # results are in Json format"
   ]
  },
  {
   "cell_type": "code",
   "execution_count": null,
   "metadata": {},
   "outputs": [],
   "source": [
    "# Since the result is in json format, we access the scores by iterating through the scores in the predictions\n",
    "\n",
    "predictions = np.array([r['score'] for r in result['predictions']])"
   ]
  },
  {
   "cell_type": "code",
   "execution_count": null,
   "metadata": {},
   "outputs": [],
   "source": [
    "predictions"
   ]
  },
  {
   "cell_type": "code",
   "execution_count": null,
   "metadata": {
    "scrolled": true
   },
   "outputs": [],
   "source": [
    "predictions.shape"
   ]
  },
  {
   "cell_type": "code",
   "execution_count": null,
   "metadata": {},
<<<<<<< HEAD
   "outputs": [
    {
     "data": {
      "image/png": "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",
      "text/plain": [
       "<Figure size 640x480 with 1 Axes>"
      ]
     },
     "metadata": {},
     "output_type": "display_data"
    }
   ],
=======
   "outputs": [],
>>>>>>> ed77e4bc4c49b7306ce6318a262f499b84851fbb
   "source": [
    "# VISUALIZE TEST SET RESULTS\n",
    "plt.scatter(X_test, y_test, color = 'gray')\n",
    "plt.plot(X_test, predictions, color = 'red')\n",
    "plt.xlabel('Years of Experience (Testing Dataset)')\n",
    "plt.ylabel('salary')\n",
    "plt.title('Salary vs. Years of Experience')\n",
    "plt.show()"
   ]
  },
  {
   "cell_type": "code",
   "execution_count": 52,
   "metadata": {},
   "outputs": [],
   "source": [
    "# Delete the end-point\n",
    "linear_regressor.delete_endpoint()"
   ]
  },
  {
   "cell_type": "markdown",
   "metadata": {},
   "source": [
    "# EXCELLENT JOB! NOW YOU'RE FAMILIAR WITH SAGEMAKER LINEAR LEARNER, YOU SHOULD BE PROUD OF YOUR NEWLY ACQUIRED SKILLS"
   ]
  }
 ],
 "metadata": {
  "colab": {
   "collapsed_sections": [],
   "name": "Graduate_Admission_Prediction.ipynb",
   "provenance": [],
   "toc_visible": true
  },
  "instance_type": "ml.t3.medium",
  "kernelspec": {
   "display_name": "Python 3.8.13 ('aws_sagemaker')",
   "language": "python",
   "name": "python3"
  },
  "language_info": {
   "codemirror_mode": {
    "name": "ipython",
    "version": 3
   },
   "file_extension": ".py",
   "mimetype": "text/x-python",
   "name": "python",
   "nbconvert_exporter": "python",
   "pygments_lexer": "ipython3",
   "version": "3.8.13"
  },
  "vscode": {
   "interpreter": {
    "hash": "e8df57da74516130d749ede4f343c25e76313a52217f77f6f1c5967e6f66018c"
   }
  }
 },
 "nbformat": 4,
 "nbformat_minor": 4
}
